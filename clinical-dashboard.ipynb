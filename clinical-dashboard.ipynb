{
 "cells": [
  {
   "cell_type": "markdown",
   "metadata": {},
   "source": [
    "# Beiwe-visualizer"
   ]
  },
  {
   "cell_type": "code",
   "execution_count": 1,
   "metadata": {},
   "outputs": [
    {
     "data": {
      "application/javascript": [
       "IPython.notebook.set_autosave_interval(0)"
      ]
     },
     "metadata": {},
     "output_type": "display_data"
    },
    {
     "name": "stdout",
     "output_type": "stream",
     "text": [
      "Autosave disabled\n"
     ]
    },
    {
     "data": {
      "application/javascript": [
       "IPython.OutputArea.prototype._should_scroll = function(lines) {return false;} "
      ],
      "text/plain": [
       "<IPython.core.display.Javascript object>"
      ]
     },
     "metadata": {},
     "output_type": "display_data"
    },
    {
     "data": {
      "text/html": [
       "<style>.container { width:100% !important; }</style>"
      ],
      "text/plain": [
       "<IPython.core.display.HTML object>"
      ]
     },
     "metadata": {},
     "output_type": "display_data"
    }
   ],
   "source": [
    "import os, sys\n",
    "# Please specify data file path here:\n",
    "# folder hierarchy: main-path/study-name/user-name/feature-name/[timestamp-sortable].csv or main-path/study-name/user-name/feature-name.csv.gz\n",
    "# os.main_path = os.getenv('HOME')+''\n",
    "os.main_path = os.getenv('HOME')+'/projects/beiwe-gitlab/beiwe-visualizer/2.decrypted/'\n",
    "\n",
    "# disable autosave so that multiple user browser can attach the same notebook\n",
    "%autosave 0\n",
    "\n",
    "# enable notebook mode so that we can drag, resize and save plots\n",
    "%matplotlib notebook\n",
    "\n",
    "from core import *"
   ]
  },
  {
   "cell_type": "code",
   "execution_count": 2,
   "metadata": {},
   "outputs": [
    {
     "data": {
      "application/vnd.jupyter.widget-view+json": {
       "model_id": "c9aa7ba0b5fc41a9bce681b88578c1c0",
       "version_major": 2,
       "version_minor": 0
      },
      "text/plain": [
       "HBox(children=(Dropdown(description='Select Study', options=('izedAa85XXrDS85XlwrOsIDU',), value='izedAa85XXrD…"
      ]
     },
     "metadata": {},
     "output_type": "display_data"
    }
   ],
   "source": [
    "HBox([dropdown_studies, fileupload])"
   ]
  },
  {
   "cell_type": "markdown",
   "metadata": {},
   "source": [
    "# Clinician Dashboard"
   ]
  },
  {
   "cell_type": "code",
   "execution_count": 3,
   "metadata": {},
   "outputs": [
    {
     "data": {
      "image/png": "[encoded data removed]",
      "text/plain": [
       "<Figure size 640x480 with 1 Axes>"
      ]
     },
     "metadata": {},
     "output_type": "display_data"
    }
   ],
   "source": [
    "import matplotlib.pyplot as plt\n",
    "import matplotlib.colors as mcolors\n",
    "import numpy as np\n",
    "\n",
    "plt.switch_backend('module://ipykernel.pylab.backend_inline')\n",
    "clist = [(0, \"red\"), (0.125, \"red\"), (0.25, \"orange\"), (0.5, \"green\"), \n",
    "         (0.7, \"green\"), (0.75, \"blue\"), (1, \"blue\")]\n",
    "rvb = mcolors.LinearSegmentedColormap.from_list(\"\", clist)\n",
    "\n",
    "N = 60\n",
    "x = np.arange(N).astype(float)\n",
    "y = np.random.uniform(0, 5, size=(N,))\n",
    "\n",
    "bb=plt.bar(x,y,color=rvb(x/N))\n",
    "plt.show()\n"
   ]
  },
  {
   "cell_type": "code",
   "execution_count": 4,
   "metadata": {},
   "outputs": [
    {
     "data": {
      "image/png": "[encoded data removed]",
      "text/plain": [
       "<Figure size 640x480 with 2 Axes>"
      ]
     },
     "metadata": {},
     "output_type": "display_data"
    }
   ],
   "source": [
    "import numpy as np\n",
    "import matplotlib.pyplot as plt\n",
    "mat = np.random.random((10,10))\n",
    "plt.imshow(mat, origin=\"lower\", cmap='gray', interpolation='nearest')\n",
    "plt.colorbar()\n",
    "plt.show()"
   ]
  },
  {
   "cell_type": "code",
   "execution_count": 5,
   "metadata": {},
   "outputs": [
    {
     "data": {
      "application/vnd.jupyter.widget-view+json": {
       "model_id": "efc3bd2e9662423688ae7cb8c406d07b",
       "version_major": 2,
       "version_minor": 0
      },
      "text/plain": [
       "VBox(children=(HBox(children=(Dropdown(description='Username', options=('moht.dsth.150@moht.com.sg_e3fb5e097f2…"
      ]
     },
     "metadata": {},
     "output_type": "display_data"
    }
   ],
   "source": [
    "def group_dates(data, labels, figsize):\n",
    "    periods = [(s+'D' if s.isdigit() else s) for s in re.split('[ ,;]+', os.DateGroup)]\n",
    "    index = data.index if type(data.index) == pd.DatetimeIndex else data.datetime\n",
    "    max_date = index.max().floor('D')\n",
    "    cut_points = [max_date]\n",
    "    for period in periods[::-1]:\n",
    "        max_date -= pd.to_timedelta(period)\n",
    "        cut_points = [max_date] + cut_points\n",
    "    dfg = data.groupby(pd.cut(index, cut_points, right=False))\n",
    "    figsize[0] = len(periods)*0.4\n",
    "    if index.nunique()==len(data):\n",
    "        ret = dfg.mean()\n",
    "        ret_index = ret.index\n",
    "    else:\n",
    "        ret = pd.concat([set_index_to_value(v.reset_index(drop=True), k, 'datetime') for k,v in dfg], ignore_index=True)\n",
    "        ret_index = [k for k,v in dfg]\n",
    "    return ret, ret_index, figsize\n",
    "\n",
    "def drawAll(Username, StartDate, LastDate, DateGroup, DoPlot):\n",
    "    if not DoPlot:\n",
    "        clear_output()\n",
    "        return\n",
    "    \n",
    "    PP = None\n",
    "    if DateGroup:\n",
    "        os.DateGroup = DateGroup\n",
    "        PP = group_dates\n",
    "    \n",
    "    # init parameters\n",
    "    file_suffix = '.csv.gz'\n",
    "    plt.switch_backend('module://ipykernel.pylab.backend_inline')\n",
    "    \n",
    "    # arrange into horizontal grid\n",
    "    fig, axs = plt.subplots(nrows=1, ncols=5, figsize=[16,4])\n",
    "    \n",
    "    ## 1. sleep\n",
    "    df = load_df(Username, 'sleep'+file_suffix).copy()\n",
    "    os.df = df = df[df.Level!='main']\n",
    "    df.Seconds /= 3600\n",
    "    # get sleep efficiency\n",
    "    sleep_efficiency = df.groupby(pd.Grouper(freq='1D', base=0.5))['Efficiency'].mean()\n",
    "    SE, SE_index, SE_figsize = group_dates(sleep_efficiency, None, [16,9])\n",
    "    # plot sleep duration together with sleep efficiency\n",
    "    plot1 = draw(df, StartDate, LastDate, 0.0, False, 'sleep'+file_suffix, 'sum in each interval', '1D', 0.5, 0, 'time chart (bar)', 'Seconds', 'mean',\n",
    "                 '<entry-count>', False, 'no sort', False, False, False, False, None, post_processor=PP, ax=axs[0], plot_options={'color':'red'}, set_title='Sleep Stage', set_ylabel='hours')\n",
    "    \n",
    "#     plot4 = draw(Username, StartDate, LastDate, 0.0, False, 'sleep'+file_suffix, 'mean value in each interval', '1D', 0.5, 0, 'time chart (bar)', 'Efficiency', 10,\n",
    "#                  '<entry-count>', True, 'no sort', False, False, False, False, None, post_processor=PP, ax=axs[1], set_title='Sleep Efficiency', set_ylabel='%')\n",
    "    \n",
    "#     # sleep efficiency\n",
    "#     plot4 = draw(Username, StartDate, LastDate, 0.0, False, 'sleep'+file_suffix, 'mean value in each interval', '1D', 0.5, 0, 'time chart (bar)', 'Efficiency', 10,\n",
    "#                  '<entry-count>', True, 'no sort', False, False, False, False, None, post_processor=PP, ax=axs[4], set_title='Sleep Efficiency', set_ylabel='%')\n",
    "    \n",
    "    \n",
    "date_group1 = Text(value='30 7 7', placeholder='Input date group such as \"30 7 7\"', disabled=False)\n",
    "W1 = interactive(drawAll, Username = dropdown_userlist, StartDate = DatePicker(value=None), LastDate = DatePicker(value=None), DateGroup = date_group1, DoPlot = ToggleButton(value=False, description='Update Plot'))\n",
    "VBox([HBox(W1.children[0:-1]), W1.children[-1]])"
   ]
  },
  {
   "cell_type": "code",
   "execution_count": 7,
   "metadata": {},
   "outputs": [
    {
     "data": {
      "text/plain": [
       "[2019-11-25, 2019-12-25)    95.361285\n",
       "[2019-12-25, 2020-01-01)    96.629630\n",
       "[2020-01-01, 2020-01-08)    97.000000\n",
       "Name: Efficiency, dtype: float64"
      ]
     },
     "execution_count": 7,
     "metadata": {},
     "output_type": "execute_result"
    }
   ],
   "source": [
    "sleep_efficiency = os.df.groupby(pd.Grouper(freq='1D', base=0.5))['Efficiency'].mean()\n",
    "SE, SE_index, SE_figsize = group_dates(sleep_efficiency, None, [16,9])\n",
    "SE"
   ]
  },
  {
   "cell_type": "code",
   "execution_count": null,
   "metadata": {},
   "outputs": [],
   "source": []
  }
 ],
 "metadata": {
  "kernelspec": {
   "display_name": "Python 3",
   "language": "python",
   "name": "python3"
  },
  "language_info": {
   "codemirror_mode": {
    "name": "ipython",
    "version": 3
   },
   "file_extension": ".py",
   "mimetype": "text/x-python",
   "name": "python",
   "nbconvert_exporter": "python",
   "pygments_lexer": "ipython3",
   "version": "3.7.4"
  }
 },
 "nbformat": 4,
 "nbformat_minor": 2
}

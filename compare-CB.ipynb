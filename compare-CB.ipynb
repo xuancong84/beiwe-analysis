{
 "cells": [
  {
   "cell_type": "markdown",
   "metadata": {},
   "source": [
    "# Compare before & after CB"
   ]
  },
  {
   "cell_type": "code",
   "execution_count": 1,
   "metadata": {},
   "outputs": [
    {
     "data": {
      "text/html": [
       "<style>.container { width:100% !important; }</style>"
      ],
      "text/plain": [
       "<IPython.core.display.HTML object>"
      ]
     },
     "metadata": {},
     "output_type": "display_data"
    }
   ],
   "source": [
    "import os, sys, re, io, math\n",
    "import matplotlib, shap, xgboost\n",
    "import numpy as np\n",
    "import pandas as pd\n",
    "import seaborn as sns\n",
    "import matplotlib.pyplot as plt\n",
    "from collections import *\n",
    "from math import isnan, nan\n",
    "from matplotlib.widgets import Slider\n",
    "from glob import glob\n",
    "from ipywidgets import *\n",
    "from datetime import datetime, timedelta\n",
    "from dateutil.tz import tzlocal\n",
    "import ipywidgets as widgets\n",
    "from IPython.display import clear_output, display, HTML\n",
    "display(HTML(\"<style>.container { width:100% !important; }</style>\"))\n",
    "pd.options.display.width = 1000\n",
    "pd.options.display.max_columns = 1000\n",
    "pd.options.display.max_rows = 100000\n",
    "pd.options.display.float_format = '{0:f}'.format\n",
    "\n",
    "from pandas_serializer import *\n",
    "\n",
    "CB_start_date = pd.Timestamp('2020-04-07', tz='tzlocal()')\n",
    "CB_boundary_gap = pd.to_timedelta('7D')\n",
    "main_path = './5.decrypted/q8KKsBwu0cryrVM3VMBNW35Q/'"
   ]
  },
  {
   "cell_type": "code",
   "execution_count": 2,
   "metadata": {},
   "outputs": [],
   "source": [
    "all_data = pandas_load('5.decrypted/q8KKsBwu0cryrVM3VMBNW35Q/all-data2.pson.gz')"
   ]
  },
  {
   "cell_type": "code",
   "execution_count": 3,
   "metadata": {},
   "outputs": [],
   "source": [
    "def get_stats(df, funcs=['max']):\n",
    "    return [eval('df.%s()'%f) for f in funcs]\n",
    "\n",
    "def compare_stats(df):\n",
    "    df_before = df[df.index < CB_start_date-CB_boundary_gap]\n",
    "    df_after = df[df.index > CB_start_date+CB_boundary_gap]\n",
    "    return pd.DataFrame({'before_mean':df_before.mean(), 'after_mean':df_after.mean(),\n",
    "                         'before_std':df_before.std(), 'after_std':df_after.std(),\n",
    "                         'before_max':df_before.max(), 'after_max':df_after.max(),\n",
    "                         'before_min':df_before.min(), 'after_min':df_after.min(),\n",
    "                         'before_median':df_before.median(), 'after_median':df_after.median()})\n",
    "    \n",
    "def summarize(df):\n",
    "    col_groups = defaultdict(lambda :[])\n",
    "    for col in df.columns:\n",
    "        if re.search('_[0-9][0-9]h$', col):\n",
    "            col_groups[col[:-4]] += [col]\n",
    "    ret = df[[col for col in df.columns if col[:-4] not in col_groups]]\n",
    "    for grp, cols in col_groups.items():\n",
    "        ret[grp] = df[cols].mean(axis=1)\n",
    "    return ret, col_groups\n",
    "    "
   ]
  },
  {
   "cell_type": "markdown",
   "metadata": {},
   "source": [
    "# Compare stats"
   ]
  },
  {
   "cell_type": "code",
   "execution_count": 4,
   "metadata": {
    "scrolled": false
   },
   "outputs": [
    {
     "data": {
      "application/vnd.jupyter.widget-view+json": {
       "model_id": "3bc5978a30964326b9d9234865320a21",
       "version_major": 2,
       "version_minor": 0
      },
      "text/plain": [
       "interactive(children=(ToggleButton(value=False, description='Show Comparison'), Output()), _dom_classes=('widg…"
      ]
     },
     "metadata": {},
     "output_type": "display_data"
    }
   ],
   "source": [
    "@interact(show=widgets.ToggleButton(value=False,description='Show Comparison'))\n",
    "def show_compare(show):\n",
    "    if not show:\n",
    "        return clear_output()\n",
    "    dfs = pd.concat([compare_stats(summarize(df)[0]) for p, df in all_data.items()])\n",
    "    df_compare = dfs.groupby(dfs.index).mean()\n",
    "    display(df_compare)"
   ]
  },
  {
   "cell_type": "markdown",
   "metadata": {},
   "source": [
    "# Plot Shap"
   ]
  },
  {
   "cell_type": "code",
   "execution_count": 5,
   "metadata": {
    "scrolled": false
   },
   "outputs": [
    {
     "data": {
      "application/vnd.jupyter.widget-view+json": {
       "model_id": "ffbdb8d438f840df99921f3f778ce732",
       "version_major": 2,
       "version_minor": 0
      },
      "text/plain": [
       "interactive(children=(ToggleButton(value=False, description='Show Shap Plot'), Output()), _dom_classes=('widge…"
      ]
     },
     "metadata": {},
     "output_type": "display_data"
    }
   ],
   "source": [
    "np.random.seed(0)\n",
    "from sklearn.ensemble import RandomForestRegressor\n",
    "\n",
    "@interact(show=widgets.ToggleButton(value=False,description='Show Shap Plot'))\n",
    "def show_shap(show):\n",
    "    if not show:\n",
    "        return clear_output()\n",
    "    df = pd.concat([summarize(df)[0] for p, df in all_data.items()])\n",
    "    df_before = df[df.index < CB_start_date-CB_boundary_gap]\n",
    "    df_after = df[df.index > CB_start_date+CB_boundary_gap]\n",
    "    X = pd.concat([df_before, df_after])\n",
    "    Y = pd.Series([-1]*len(df_before.index)+[1]*len(df_after.index))\n",
    "\n",
    "    # Build the model\n",
    "    if True:\n",
    "        # use xgboost algorithm\n",
    "        model = xgboost.train({\"learning_rate\": 0.01}, xgboost.DMatrix(X, label=Y), 100)\n",
    "    else:\n",
    "        # use random forest regression algorithm\n",
    "        model = RandomForestRegressor(max_depth=6, random_state=0, n_estimators=10)\n",
    "        model.fit(X, Y)\n",
    "\n",
    "    shap_values = shap.TreeExplainer(model).shap_values(X)\n",
    "    f = plt.figure()\n",
    "    shap.summary_plot(shap_values, X, max_display=9999)\n",
    "    # f.savefig(\"/summary_plot1.png\", bbox_inches='tight', dpi=600)"
   ]
  },
  {
   "cell_type": "markdown",
   "metadata": {},
   "source": [
    "# For Testing"
   ]
  },
  {
   "cell_type": "code",
   "execution_count": 6,
   "metadata": {
    "scrolled": false
   },
   "outputs": [],
   "source": [
    "for ii,(name, df) in enumerate(all_data.items()):\n",
    "    if ii!=2 or True:\n",
    "        continue\n",
    "    df1 = df[[col for col in df.columns if (col.startswith('tapsLog') and 'dur' in col)]]\n",
    "    display(name)\n",
    "    display(df1.max())\n"
   ]
  }
 ],
 "metadata": {
  "kernelspec": {
   "display_name": "Python 3",
   "language": "python",
   "name": "python3"
  },
  "language_info": {
   "codemirror_mode": {
    "name": "ipython",
    "version": 3
   },
   "file_extension": ".py",
   "mimetype": "text/x-python",
   "name": "python",
   "nbconvert_exporter": "python",
   "pygments_lexer": "ipython3",
   "version": "3.7.4"
  }
 },
 "nbformat": 4,
 "nbformat_minor": 2
}

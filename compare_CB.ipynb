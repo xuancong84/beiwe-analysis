{
 "cells": [
  {
   "cell_type": "markdown",
   "metadata": {},
   "source": [
    "# Compare before & after CB"
   ]
  },
  {
   "cell_type": "code",
   "execution_count": 1,
   "metadata": {},
   "outputs": [
    {
     "data": {
      "text/html": [
       "<style>.container { width:100% !important; }</style>"
      ],
      "text/plain": [
       "<IPython.core.display.HTML object>"
      ]
     },
     "metadata": {},
     "output_type": "display_data"
    },
    {
     "data": {
      "text/html": [
       "\n",
       "    <style>\n",
       "       .jupyter-widgets-output-area .output_scroll {\n",
       "            height: unset !important;\n",
       "            border-radius: unset !important;\n",
       "            -webkit-box-shadow: unset !important;\n",
       "            box-shadow: unset !important;\n",
       "        }\n",
       "        .jupyter-widgets-output-area  {\n",
       "            height: auto !important;\n",
       "        }\n",
       "    </style>\n",
       "    "
      ],
      "text/plain": [
       "<IPython.core.display.HTML object>"
      ]
     },
     "metadata": {},
     "output_type": "display_data"
    },
    {
     "data": {
      "application/javascript": [
       "IPython.notebook.set_autosave_interval(0)"
      ]
     },
     "metadata": {},
     "output_type": "display_data"
    },
    {
     "name": "stdout",
     "output_type": "stream",
     "text": [
      "Autosave disabled\n"
     ]
    }
   ],
   "source": [
    "import os, sys, re, io, math\n",
    "import matplotlib, shap, xgboost\n",
    "import numpy as np\n",
    "import pandas as pd\n",
    "import seaborn as sns\n",
    "import matplotlib.pyplot as plt\n",
    "from collections import *\n",
    "from math import isnan, nan\n",
    "from matplotlib.widgets import Slider\n",
    "from glob import glob\n",
    "from ipywidgets import *\n",
    "from datetime import datetime, timedelta\n",
    "from dateutil.tz import tzlocal\n",
    "import ipywidgets as widgets\n",
    "from IPython.display import *\n",
    "display(HTML(\"<style>.container { width:100% !important; }</style>\"))\n",
    "pd.options.display.width = 1000\n",
    "pd.options.display.max_columns = 1000\n",
    "pd.options.display.max_rows = 100000\n",
    "pd.options.display.float_format = '{0:f}'.format\n",
    "\n",
    "# Disable scrolling for all output widgets\n",
    "style = \"\"\"\n",
    "    <style>\n",
    "       .jupyter-widgets-output-area .output_scroll {\n",
    "            height: unset !important;\n",
    "            border-radius: unset !important;\n",
    "            -webkit-box-shadow: unset !important;\n",
    "            box-shadow: unset !important;\n",
    "        }\n",
    "        .jupyter-widgets-output-area  {\n",
    "            height: auto !important;\n",
    "        }\n",
    "    </style>\n",
    "    \"\"\"\n",
    "display(HTML(style))\n",
    "\n",
    "# disable autosave so that multiple user browser can attach the same notebook\n",
    "%autosave 0\n",
    "\n",
    "from pandas_serializer import *\n",
    "from compare_CB import *\n",
    "\n",
    "CB_start_date = pd.Timestamp('2020-4-7', tz='tzlocal()')\n",
    "CB_boundary_gap = pd.to_timedelta('3D')  # at least N days from CB start date\n",
    "CB_boundary_end = pd.to_timedelta('45D')  # at most N days from CB start date\n",
    "\n",
    "# Singapore COVID dates: 2020-4-7 2020-6-2 2020-6-19\n",
    "DateRangeA = [CB_start_date-CB_boundary_end, CB_start_date-CB_boundary_gap]\n",
    "DateRangeB = [CB_start_date+CB_boundary_gap, CB_start_date+CB_boundary_end]\n",
    "DateRanges = [DateRangeA, DateRangeB]"
   ]
  },
  {
   "cell_type": "code",
   "execution_count": 2,
   "metadata": {},
   "outputs": [
    {
     "data": {
      "application/vnd.jupyter.widget-view+json": {
       "model_id": "a65de8c9d8c14296b54ed91271bed182",
       "version_major": 2,
       "version_minor": 0
      },
      "text/plain": [
       "Button(description='Load Data', style=ButtonStyle(font_weight='bold'))"
      ]
     },
     "metadata": {},
     "output_type": "display_data"
    }
   ],
   "source": [
    "button = widgets.Button(description='Load Data', style={'font_weight': 'bold'})\n",
    "def on_button_clicked(b):\n",
    "    global all_data, all_cols\n",
    "    for f in ['5.decrypted/izedAa85XXrDS85XlwrOsIDU/all-data.pson.gz', '5.decrypted/q8KKsBwu0cryrVM3VMBNW35Q/all-data2.pson.gz']:\n",
    "        if os.path.exists(f):\n",
    "            print('Loading files ...', end='')\n",
    "            all_data = pandas_load(f)\n",
    "            all_cols = all_data[list(all_data.keys())[0]].columns.tolist()\n",
    "            print('Done')\n",
    "            break\n",
    "button.on_click(on_button_clicked)\n",
    "display(button)"
   ]
  },
  {
   "cell_type": "code",
   "execution_count": 3,
   "metadata": {},
   "outputs": [
    {
     "data": {
      "application/vnd.jupyter.widget-view+json": {
       "model_id": "4795ecedbbbc4bfebea1b7dd544a7997",
       "version_major": 2,
       "version_minor": 0
      },
      "text/plain": [
       "HBox(children=(DatePicker(value=Timestamp('2020-02-22 00:00:00+0800', tz='tzlocal()'), description='RangeA Sta…"
      ]
     },
     "metadata": {},
     "output_type": "display_data"
    },
    {
     "data": {
      "application/vnd.jupyter.widget-view+json": {
       "model_id": "5e5a16fe8d314e0990f4294da908e198",
       "version_major": 2,
       "version_minor": 0
      },
      "text/plain": [
       "Output()"
      ]
     },
     "metadata": {},
     "output_type": "display_data"
    }
   ],
   "source": [
    "button1 = widgets.Button(description='Set Comparison Date-range', style={'font_weight': 'bold'}, layout=Layout(width='250px'))\n",
    "out1 = widgets.Output()\n",
    "datepicker4 = [widgets.DatePicker(value=val, description=desc, layout=Layout(width='250px'), disabled=False) for desc,val in \n",
    "               [['RangeA Start', DateRangeA[0]], ['RangeA Stop', DateRangeA[1]], ['RangeB Start', DateRangeB[0]], ['RangeB Stop', DateRangeB[1]]]]\n",
    "@out1.capture(clear_output=True)\n",
    "def button_set_compare_range(b):\n",
    "    global DateRangeA, DateRangeB, out\n",
    "    dates = [pd.to_datetime(i.value) for i in datepicker4]\n",
    "    if dates[0:2].count(None)>1 or dates[2:4].count(None)>1:\n",
    "        return\n",
    "    DateRangeA, DateRangeB = dates[0:2], dates[2:4]\n",
    "    print('DateRange set to A=[%.10s, %.10s), B=[%.10s, %.10s)'%(DateRangeA[0], DateRangeA[1], DateRangeB[0], DateRangeB[1]))\n",
    "button1.on_click(button_set_compare_range)\n",
    "display(HBox(datepicker4+[button1]), out1)"
   ]
  },
  {
   "cell_type": "markdown",
   "metadata": {},
   "source": [
    "# Compare stats"
   ]
  },
  {
   "cell_type": "code",
   "execution_count": 4,
   "metadata": {
    "scrolled": false
   },
   "outputs": [
    {
     "data": {
      "application/vnd.jupyter.widget-view+json": {
       "model_id": "46815c25b4a444e9a7670c2938b18d4a",
       "version_major": 2,
       "version_minor": 0
      },
      "text/plain": [
       "interactive(children=(ToggleButton(value=False, description='Show Comparison'), Output()), _dom_classes=('widg…"
      ]
     },
     "metadata": {},
     "output_type": "display_data"
    }
   ],
   "source": [
    "@interact(show=widgets.ToggleButton(value=False,description='Show Comparison'))\n",
    "def show_compare(show):\n",
    "    global compare_res\n",
    "    if not show:\n",
    "        return clear_output()\n",
    "    compare_res = get_compare(all_data, DateRangeA, DateRangeB)\n",
    "    display(compare_res)"
   ]
  },
  {
   "cell_type": "code",
   "execution_count": 5,
   "metadata": {},
   "outputs": [],
   "source": [
    "if 'compare_res' in globals():\n",
    "    compare_res.loc['heart.daily_HR_mean heart.daily_HR_min steps.daily_n_steps steps.daily_n_pos_readings gps-mobility_Hometime gps-mobility_RoG sleep_tot_hrs sleep_mean_efficiency sleep_tot_deep_hrs'.split(),\n",
    "                    'before_mean \tafter_mean \tttest_rel \twilcoxon \tp-test \tt-test'.split()]\\\n",
    "    .applymap(lambda t: t.split()[0] if type(t)==str else t).applymap(lambda t: \"%#.4g\"%float(t)).rename(index={'steps.daily_n_pos_readings':'steps.daily_walk_minutes'})"
   ]
  },
  {
   "cell_type": "markdown",
   "metadata": {},
   "source": [
    "# Plot Shap"
   ]
  },
  {
   "cell_type": "code",
   "execution_count": 6,
   "metadata": {
    "scrolled": false
   },
   "outputs": [
    {
     "data": {
      "application/vnd.jupyter.widget-view+json": {
       "model_id": "86f869560d8b4508971118516a3dc5bd",
       "version_major": 2,
       "version_minor": 0
      },
      "text/plain": [
       "interactive(children=(IntText(value=20, description='Figure width'), ToggleButton(value=False, description='Sh…"
      ]
     },
     "metadata": {},
     "output_type": "display_data"
    }
   ],
   "source": [
    "@interact(figwidth=widgets.IntText(value=20, description='Figure width'), show=widgets.ToggleButton(value=False,description='Show Shap Plot'))\n",
    "def show_shap(figwidth, show):\n",
    "    if not show:\n",
    "        return clear_output()\n",
    "    f, shap_values, X = get_shap(all_data, DateRangeA, DateRangeB, figwidth=figwidth, max_display=9999)\n",
    "    # f.savefig(\"/summary_plot1.png\", bbox_inches='tight', dpi=600)"
   ]
  },
  {
   "cell_type": "markdown",
   "metadata": {},
   "source": [
    "# Compare Distribution"
   ]
  },
  {
   "cell_type": "code",
   "execution_count": 9,
   "metadata": {},
   "outputs": [
    {
     "ename": "SyntaxError",
     "evalue": "'return' outside function (<ipython-input-9-c5d5c681d10e>, line 26)",
     "output_type": "error",
     "traceback": [
      "\u001b[0;36m  File \u001b[0;32m\"<ipython-input-9-c5d5c681d10e>\"\u001b[0;36m, line \u001b[0;32m26\u001b[0m\n\u001b[0;31m    return\u001b[0m\n\u001b[0m          ^\u001b[0m\n\u001b[0;31mSyntaxError\u001b[0m\u001b[0;31m:\u001b[0m 'return' outside function\n"
     ]
    }
   ],
   "source": [
    "dt2str = lambda dt: str(dt).split()[0]\n",
    "dr2str = lambda dr: dt2str(dr[0]) + '\\t' + dt2str(dr[1])\n",
    "def plot_kde(Users, Feature, DateRanges, Plot):\n",
    "    global compare_res\n",
    "    \n",
    "    if not Plot or not Users:\n",
    "        return clear_output()\n",
    "    def get(df, feature):\n",
    "        return df[feature] if feature in df.columns else summarize(df)[0][feature]\n",
    "    drs = [L.split() for L in DateRanges.split('\\n') if L.strip()]\n",
    "    samples = []\n",
    "    for ii, dr in enumerate(drs, 1):\n",
    "        sample = pd.concat([get(all_data[user][dr[0]:dr[1]], Feature) for user in Users], ignore_index=True).dropna()\n",
    "        if sample.empty: return print('Population in DateRange%d is empty!'%ii)\n",
    "        if len(set(sample))==1: return print('Population in DateRange%d has only 1 value! %s'%(ii, set(sampleA)))\n",
    "        samples += [sample]\n",
    "    os.dfc = dfc = pd.concat(samples, axis=1, ignore_index=True)\n",
    "    dfc.columns = ['KDE [%s, %s)'%(dt2str(dr[0]), dt2str(dr[1])) for dr in drs]\n",
    "    fig, axs = plt.subplots(nrows=1, ncols=2, figsize=[16,4], gridspec_kw={'width_ratios':[2,1]})\n",
    "    dfc.plot.kde(bw_method='silverman', ax=axs[0], figsize=[24,9])\n",
    "    dfc.boxplot(ax=axs[1], rot=45)\n",
    "    \n",
    "def onclick_show_hourly(t):\n",
    "    dropdown2.options = cols_all if showhourly0.value else cols_nohourly\n",
    "\n",
    "if 'all_data' in globals():\n",
    "    dr2str = lambda dr: str(dr[0]).split()[0] + '\\t' + str(dr[1]).split()[0]\n",
    "    cols_all = sorted(set([c[:-4] for c in all_cols if re.search('_\\d\\dh$', c)])|set(all_cols))\n",
    "    cols_nohourly = [c for c in cols_all if not re.search('_\\d\\dh$', c)]\n",
    "    dropdown1 = widgets.SelectMultiple(options=sorted(all_data.keys()), description='Participant', layout=Layout(width='400px'))\n",
    "    dropdown2 = widgets.Dropdown(options=cols_nohourly, description='Feature', layout=Layout(width='400px'))\n",
    "    showhourly0 = widgets.Checkbox(value=False, description='Show hourly features')\n",
    "    showhourly0.observe(onclick_show_hourly)\n",
    "    dateranges = widgets.Textarea(value='2020-02-22\\t2020-04-04\\n2020-04-10\\t2020-05-22\\n2020-06-02\\t2020-06-19\\n2020-06-20\\t2020-08-31', description='DateRanges')\n",
    "    button2 = widgets.ToggleButton(value=False, description='Plot Distribution')\n",
    "    W = interactive(plot_kde, Users=dropdown1, Feature=dropdown2, DateRanges=dateranges, Plot=button2)\n",
    "    display(HBox([dropdown1, VBox([dropdown2, showhourly0]), dateranges, button2]), W.children[-1])"
   ]
  },
  {
   "cell_type": "markdown",
   "metadata": {},
   "source": [
    "# For Testing"
   ]
  },
  {
   "cell_type": "code",
   "execution_count": 8,
   "metadata": {
    "scrolled": false
   },
   "outputs": [],
   "source": [
    "if 'all_data' in globals():\n",
    "    for ii,(name, df) in enumerate(all_data.items()):\n",
    "        if ii!=2 or True:\n",
    "            continue\n",
    "        df1 = df[[col for col in df.columns if (col.startswith('tapsLog') and 'dur' in col)]]\n",
    "        display(name)\n",
    "        display(df1.max())"
   ]
  },
  {
   "cell_type": "code",
   "execution_count": null,
   "metadata": {},
   "outputs": [],
   "source": []
  }
 ],
 "metadata": {
  "kernelspec": {
   "display_name": "Python 3",
   "language": "python",
   "name": "python3"
  },
  "language_info": {
   "codemirror_mode": {
    "name": "ipython",
    "version": 3
   },
   "file_extension": ".py",
   "mimetype": "text/x-python",
   "name": "python",
   "nbconvert_exporter": "python",
   "pygments_lexer": "ipython3",
   "version": "3.7.4"
  }
 },
 "nbformat": 4,
 "nbformat_minor": 2
}

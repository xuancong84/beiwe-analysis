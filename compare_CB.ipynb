{
 "cells": [
  {
   "cell_type": "markdown",
   "metadata": {},
   "source": [
    "# Compare before & after CB"
   ]
  },
  {
   "cell_type": "code",
   "execution_count": 1,
   "metadata": {},
   "outputs": [
    {
     "data": {
      "text/html": [
       "<style>.container { width:100% !important; }</style>"
      ],
      "text/plain": [
       "<IPython.core.display.HTML object>"
      ]
     },
     "metadata": {},
     "output_type": "display_data"
    },
    {
     "data": {
      "text/html": [
       "\n",
       "    <style>\n",
       "       .jupyter-widgets-output-area .output_scroll {\n",
       "            height: unset !important;\n",
       "            border-radius: unset !important;\n",
       "            -webkit-box-shadow: unset !important;\n",
       "            box-shadow: unset !important;\n",
       "        }\n",
       "        .jupyter-widgets-output-area  {\n",
       "            height: auto !important;\n",
       "        }\n",
       "    </style>\n",
       "    "
      ],
      "text/plain": [
       "<IPython.core.display.HTML object>"
      ]
     },
     "metadata": {},
     "output_type": "display_data"
    },
    {
     "data": {
      "application/javascript": [
       "IPython.notebook.set_autosave_interval(0)"
      ]
     },
     "metadata": {},
     "output_type": "display_data"
    },
    {
     "name": "stdout",
     "output_type": "stream",
     "text": [
      "Autosave disabled\n"
     ]
    }
   ],
   "source": [
    "import os, sys, re, io, math\n",
    "import matplotlib, shap, xgboost\n",
    "import numpy as np\n",
    "import pandas as pd\n",
    "import seaborn as sns\n",
    "import matplotlib.pyplot as plt\n",
    "from collections import *\n",
    "from math import isnan, nan\n",
    "from matplotlib.widgets import Slider\n",
    "from glob import glob\n",
    "from ipywidgets import *\n",
    "from datetime import datetime, timedelta\n",
    "from dateutil.tz import tzlocal\n",
    "import ipywidgets as widgets\n",
    "from IPython.display import *\n",
    "display(HTML(\"<style>.container { width:100% !important; }</style>\"))\n",
    "pd.options.display.width = 1000\n",
    "pd.options.display.max_columns = 1000\n",
    "pd.options.display.max_rows = 100000\n",
    "pd.options.display.float_format = '{0:f}'.format\n",
    "\n",
    "# Disable scrolling for all output widgets\n",
    "style = \"\"\"\n",
    "    <style>\n",
    "       .jupyter-widgets-output-area .output_scroll {\n",
    "            height: unset !important;\n",
    "            border-radius: unset !important;\n",
    "            -webkit-box-shadow: unset !important;\n",
    "            box-shadow: unset !important;\n",
    "        }\n",
    "        .jupyter-widgets-output-area  {\n",
    "            height: auto !important;\n",
    "        }\n",
    "    </style>\n",
    "    \"\"\"\n",
    "display(HTML(style))\n",
    "\n",
    "# disable autosave so that multiple user browser can attach the same notebook\n",
    "%autosave 0\n",
    "\n",
    "from pandas_serializer import *\n",
    "from compare_CB import *\n",
    "\n",
    "CB_start_date = pd.Timestamp('2020-04-07', tz='tzlocal()')\n",
    "CB_boundary_gap = pd.to_timedelta('3D')  # at least N days from CB start date\n",
    "CB_boundary_end = pd.to_timedelta('45D')  # at most N days from CB start date\n",
    "\n",
    "DateRangeA = [CB_start_date-CB_boundary_end, CB_start_date-CB_boundary_gap]\n",
    "DateRangeB = [CB_start_date+CB_boundary_gap, CB_start_date+CB_boundary_end]"
   ]
  },
  {
   "cell_type": "code",
   "execution_count": 2,
   "metadata": {},
   "outputs": [
    {
     "data": {
      "application/vnd.jupyter.widget-view+json": {
       "model_id": "25ea2db66607458b9c80ee65c6147ae0",
       "version_major": 2,
       "version_minor": 0
      },
      "text/plain": [
       "Button(description='Load Data', style=ButtonStyle(font_weight='bold'))"
      ]
     },
     "metadata": {},
     "output_type": "display_data"
    }
   ],
   "source": [
    "button = widgets.Button(description='Load Data', style={'font_weight': 'bold'})\n",
    "def on_button_clicked(b):\n",
    "    global all_data\n",
    "    for f in ['5.decrypted/izedAa85XXrDS85XlwrOsIDU/all-data.pson.gz', '5.decrypted/q8KKsBwu0cryrVM3VMBNW35Q/all-data2.pson.gz']:\n",
    "        if os.path.exists(f):\n",
    "            print('Loading files ...', end='')\n",
    "            all_data = pandas_load(f)\n",
    "            print('Done')\n",
    "            break\n",
    "button.on_click(on_button_clicked)\n",
    "display(button)"
   ]
  },
  {
   "cell_type": "code",
   "execution_count": 3,
   "metadata": {},
   "outputs": [
    {
     "data": {
      "application/vnd.jupyter.widget-view+json": {
       "model_id": "865e17104ce54270bc6795009bd90467",
       "version_major": 2,
       "version_minor": 0
      },
      "text/plain": [
       "HBox(children=(DatePicker(value=Timestamp('2020-02-22 00:00:00+0800', tz='tzlocal()'), description='RangeA Sta…"
      ]
     },
     "metadata": {},
     "output_type": "display_data"
    },
    {
     "data": {
      "application/vnd.jupyter.widget-view+json": {
       "model_id": "5fd9feb8001a4ab295670c90e24b8c3e",
       "version_major": 2,
       "version_minor": 0
      },
      "text/plain": [
       "Output()"
      ]
     },
     "metadata": {},
     "output_type": "display_data"
    }
   ],
   "source": [
    "button1 = widgets.Button(description='Set Comparison Date-range', style={'font_weight': 'bold'}, layout=Layout(width='250px'))\n",
    "out1 = widgets.Output()\n",
    "datepicker4 = [widgets.DatePicker(value=val, description=desc, layout=Layout(width='250px'), disabled=False) for desc,val in \n",
    "               [['RangeA Start', DateRangeA[0]], ['RangeA Stop', DateRangeA[1]], ['RangeB Start', DateRangeB[0]], ['RangeB Stop', DateRangeB[1]]]]\n",
    "@out1.capture(clear_output=True)\n",
    "def button_set_compare_range(b):\n",
    "    global DateRangeA, DateRangeB, out\n",
    "    dates = [pd.to_datetime(i.value) for i in datepicker4]\n",
    "    if dates[0:2].count(None)>1 or dates[2:4].count(None)>1:\n",
    "        return\n",
    "    DateRangeA, DateRangeB = dates[0:2], dates[2:4]\n",
    "    print('DateRange set to A=[%.10s, %.10s), B=[%.10s, %.10s)'%(DateRangeA[0], DateRangeA[1], DateRangeB[0], DateRangeB[1]))\n",
    "button1.on_click(button_set_compare_range)\n",
    "display(HBox(datepicker4+[button1]), out1)"
   ]
  },
  {
   "cell_type": "markdown",
   "metadata": {},
   "source": [
    "# Compare stats"
   ]
  },
  {
   "cell_type": "code",
   "execution_count": 4,
   "metadata": {
    "scrolled": false
   },
   "outputs": [
    {
     "data": {
      "application/vnd.jupyter.widget-view+json": {
       "model_id": "bfcf473019e1422dbf5a822f09de712e",
       "version_major": 2,
       "version_minor": 0
      },
      "text/plain": [
       "interactive(children=(ToggleButton(value=False, description='Show Comparison'), Output()), _dom_classes=('widg…"
      ]
     },
     "metadata": {},
     "output_type": "display_data"
    }
   ],
   "source": [
    "@interact(show=widgets.ToggleButton(value=False,description='Show Comparison'))\n",
    "def show_compare(show):\n",
    "    if not show:\n",
    "        return clear_output()\n",
    "    display(get_compare(all_data, CB_start_date, CB_boundary_gap, CB_boundary_end))"
   ]
  },
  {
   "cell_type": "markdown",
   "metadata": {},
   "source": [
    "# Plot Shap"
   ]
  },
  {
   "cell_type": "code",
   "execution_count": 5,
   "metadata": {
    "scrolled": false
   },
   "outputs": [
    {
     "data": {
      "application/vnd.jupyter.widget-view+json": {
       "model_id": "c699e806541247f299832519576f26f7",
       "version_major": 2,
       "version_minor": 0
      },
      "text/plain": [
       "interactive(children=(IntText(value=20, description='Figure width'), ToggleButton(value=False, description='Sh…"
      ]
     },
     "metadata": {},
     "output_type": "display_data"
    }
   ],
   "source": [
    "@interact(figwidth=widgets.IntText(value=20, description='Figure width'), show=widgets.ToggleButton(value=False,description='Show Shap Plot'))\n",
    "def show_shap(figwidth, show):\n",
    "    if not show:\n",
    "        return clear_output()\n",
    "    f, shap_values, X = get_shap(all_data, CB_start_date, CB_boundary_gap, CB_boundary_end, figwidth=figwidth, max_display=9999)\n",
    "    # f.savefig(\"/summary_plot1.png\", bbox_inches='tight', dpi=600)"
   ]
  },
  {
   "cell_type": "markdown",
   "metadata": {},
   "source": [
    "# For Testing"
   ]
  },
  {
   "cell_type": "code",
   "execution_count": 6,
   "metadata": {
    "scrolled": false
   },
   "outputs": [
    {
     "ename": "NameError",
     "evalue": "name 'all_data' is not defined",
     "output_type": "error",
     "traceback": [
      "\u001b[0;31m---------------------------------------------------------------------------\u001b[0m",
      "\u001b[0;31mNameError\u001b[0m                                 Traceback (most recent call last)",
      "\u001b[0;32m<ipython-input-6-faa6d0136bb4>\u001b[0m in \u001b[0;36m<module>\u001b[0;34m\u001b[0m\n\u001b[0;32m----> 1\u001b[0;31m \u001b[0;32mfor\u001b[0m \u001b[0mii\u001b[0m\u001b[0;34m,\u001b[0m\u001b[0;34m(\u001b[0m\u001b[0mname\u001b[0m\u001b[0;34m,\u001b[0m \u001b[0mdf\u001b[0m\u001b[0;34m)\u001b[0m \u001b[0;32min\u001b[0m \u001b[0menumerate\u001b[0m\u001b[0;34m(\u001b[0m\u001b[0mall_data\u001b[0m\u001b[0;34m.\u001b[0m\u001b[0mitems\u001b[0m\u001b[0;34m(\u001b[0m\u001b[0;34m)\u001b[0m\u001b[0;34m)\u001b[0m\u001b[0;34m:\u001b[0m\u001b[0;34m\u001b[0m\u001b[0;34m\u001b[0m\u001b[0m\n\u001b[0m\u001b[1;32m      2\u001b[0m     \u001b[0;32mif\u001b[0m \u001b[0mii\u001b[0m\u001b[0;34m!=\u001b[0m\u001b[0;36m2\u001b[0m \u001b[0;32mor\u001b[0m \u001b[0;32mTrue\u001b[0m\u001b[0;34m:\u001b[0m\u001b[0;34m\u001b[0m\u001b[0;34m\u001b[0m\u001b[0m\n\u001b[1;32m      3\u001b[0m         \u001b[0;32mcontinue\u001b[0m\u001b[0;34m\u001b[0m\u001b[0;34m\u001b[0m\u001b[0m\n\u001b[1;32m      4\u001b[0m     \u001b[0mdf1\u001b[0m \u001b[0;34m=\u001b[0m \u001b[0mdf\u001b[0m\u001b[0;34m[\u001b[0m\u001b[0;34m[\u001b[0m\u001b[0mcol\u001b[0m \u001b[0;32mfor\u001b[0m \u001b[0mcol\u001b[0m \u001b[0;32min\u001b[0m \u001b[0mdf\u001b[0m\u001b[0;34m.\u001b[0m\u001b[0mcolumns\u001b[0m \u001b[0;32mif\u001b[0m \u001b[0;34m(\u001b[0m\u001b[0mcol\u001b[0m\u001b[0;34m.\u001b[0m\u001b[0mstartswith\u001b[0m\u001b[0;34m(\u001b[0m\u001b[0;34m'tapsLog'\u001b[0m\u001b[0;34m)\u001b[0m \u001b[0;32mand\u001b[0m \u001b[0;34m'dur'\u001b[0m \u001b[0;32min\u001b[0m \u001b[0mcol\u001b[0m\u001b[0;34m)\u001b[0m\u001b[0;34m]\u001b[0m\u001b[0;34m]\u001b[0m\u001b[0;34m\u001b[0m\u001b[0;34m\u001b[0m\u001b[0m\n\u001b[1;32m      5\u001b[0m     \u001b[0mdisplay\u001b[0m\u001b[0;34m(\u001b[0m\u001b[0mname\u001b[0m\u001b[0;34m)\u001b[0m\u001b[0;34m\u001b[0m\u001b[0;34m\u001b[0m\u001b[0m\n",
      "\u001b[0;31mNameError\u001b[0m: name 'all_data' is not defined"
     ]
    }
   ],
   "source": [
    "for ii,(name, df) in enumerate(all_data.items()):\n",
    "    if ii!=2 or True:\n",
    "        continue\n",
    "    df1 = df[[col for col in df.columns if (col.startswith('tapsLog') and 'dur' in col)]]\n",
    "    display(name)\n",
    "    display(df1.max())\n"
   ]
  }
 ],
 "metadata": {
  "kernelspec": {
   "display_name": "Python 3",
   "language": "python",
   "name": "python3"
  },
  "language_info": {
   "codemirror_mode": {
    "name": "ipython",
    "version": 3
   },
   "file_extension": ".py",
   "mimetype": "text/x-python",
   "name": "python",
   "nbconvert_exporter": "python",
   "pygments_lexer": "ipython3",
   "version": "3.7.4"
  }
 },
 "nbformat": 4,
 "nbformat_minor": 2
}

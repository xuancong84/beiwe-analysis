{
 "cells": [
  {
   "cell_type": "markdown",
   "metadata": {},
   "source": [
    "# Compare before & after CB"
   ]
  },
  {
   "cell_type": "code",
   "execution_count": 1,
   "metadata": {},
   "outputs": [
    {
     "data": {
      "text/html": [
       "<style>.container { width:100% !important; }</style>"
      ],
      "text/plain": [
       "<IPython.core.display.HTML object>"
      ]
     },
     "metadata": {},
     "output_type": "display_data"
    },
    {
     "data": {
      "text/html": [
       "\n",
       "    <style>\n",
       "       .jupyter-widgets-output-area .output_scroll {\n",
       "            height: unset !important;\n",
       "            border-radius: unset !important;\n",
       "            -webkit-box-shadow: unset !important;\n",
       "            box-shadow: unset !important;\n",
       "        }\n",
       "        .jupyter-widgets-output-area  {\n",
       "            height: auto !important;\n",
       "        }\n",
       "    </style>\n",
       "    "
      ],
      "text/plain": [
       "<IPython.core.display.HTML object>"
      ]
     },
     "metadata": {},
     "output_type": "display_data"
    },
    {
     "data": {
      "application/javascript": [
       "IPython.notebook.set_autosave_interval(0)"
      ]
     },
     "metadata": {},
     "output_type": "display_data"
    },
    {
     "name": "stdout",
     "output_type": "stream",
     "text": [
      "Autosave disabled\n"
     ]
    }
   ],
   "source": [
    "import os, sys, re, io, math\n",
    "import matplotlib, shap, xgboost\n",
    "import numpy as np\n",
    "import pandas as pd\n",
    "import seaborn as sns\n",
    "import matplotlib.pyplot as plt\n",
    "from collections import *\n",
    "from math import isnan, nan\n",
    "from matplotlib.widgets import Slider\n",
    "from glob import glob\n",
    "from ipywidgets import *\n",
    "from datetime import datetime, timedelta\n",
    "from dateutil.tz import tzlocal\n",
    "import ipywidgets as widgets\n",
    "from IPython.display import *\n",
    "display(HTML(\"<style>.container { width:100% !important; }</style>\"))\n",
    "pd.options.display.width = 1000\n",
    "pd.options.display.max_columns = 1000\n",
    "pd.options.display.max_rows = 100000\n",
    "pd.options.display.float_format = '{0:f}'.format\n",
    "\n",
    "# Disable scrolling for all output widgets\n",
    "style = \"\"\"\n",
    "    <style>\n",
    "       .jupyter-widgets-output-area .output_scroll {\n",
    "            height: unset !important;\n",
    "            border-radius: unset !important;\n",
    "            -webkit-box-shadow: unset !important;\n",
    "            box-shadow: unset !important;\n",
    "        }\n",
    "        .jupyter-widgets-output-area  {\n",
    "            height: auto !important;\n",
    "        }\n",
    "    </style>\n",
    "    \"\"\"\n",
    "display(HTML(style))\n",
    "\n",
    "# disable autosave so that multiple user browser can attach the same notebook\n",
    "%autosave 0\n",
    "\n",
    "from pandas_serializer import *\n",
    "from compare_CB import *\n",
    "\n",
    "CB_start_date = pd.Timestamp('2020-4-7', tz='tzlocal()')\n",
    "CB_boundary_gap = pd.to_timedelta('3D')  # at least N days from CB start date\n",
    "CB_boundary_end = pd.to_timedelta('45D')  # at most N days from CB start date\n",
    "\n",
    "# Singapore COVID dates: 2020-4-7 2020-6-2 2020-6-19\n",
    "DateRangeA = [CB_start_date-CB_boundary_end, CB_start_date-CB_boundary_gap]\n",
    "DateRangeB = [CB_start_date+CB_boundary_gap, CB_start_date+CB_boundary_end]\n",
    "DateRanges = [DateRangeA, DateRangeB]"
   ]
  },
  {
   "cell_type": "code",
   "execution_count": 7,
   "metadata": {},
   "outputs": [
    {
     "data": {
      "application/vnd.jupyter.widget-view+json": {
       "model_id": "8db513bf9f5c48e3b491876169f877fa",
       "version_major": 2,
       "version_minor": 0
      },
      "text/plain": [
       "Button(description='Load Data', style=ButtonStyle(font_weight='bold'))"
      ]
     },
     "metadata": {},
     "output_type": "display_data"
    },
    {
     "name": "stdout",
     "output_type": "stream",
     "text": [
      "Loading files ...Done\n"
     ]
    }
   ],
   "source": [
    "button = widgets.Button(description='Load Data', style={'font_weight': 'bold'})\n",
    "N_user = 25\n",
    "f_getN = lambda s: int(re.search('[0-9]+@', s).group(0)[:-1])\n",
    "def on_button_clicked(b):\n",
    "    global all_data, all_cols, all_all\n",
    "    for f in ['5.decrypted/izedAa85XXrDS85XlwrOsIDU/all-data.pson.gz', '5.decrypted/q8KKsBwu0cryrVM3VMBNW35Q/all-data2.pson.gz']:\n",
    "        if os.path.exists(f):\n",
    "            print('Loading files ...', end='')\n",
    "            all_all = pandas_load(f)\n",
    "            all_data = {k:v for k,v in all_all.items() if f_getN(k)<N_user}\n",
    "            all_cols = all_data[list(all_data.keys())[0]].columns.tolist()\n",
    "            print('Done')\n",
    "            break\n",
    "button.on_click(on_button_clicked)\n",
    "display(button)"
   ]
  },
  {
   "cell_type": "code",
   "execution_count": 3,
   "metadata": {},
   "outputs": [
    {
     "data": {
      "application/vnd.jupyter.widget-view+json": {
       "model_id": "bd8bc36fdf374c95aaa0de8728068f27",
       "version_major": 2,
       "version_minor": 0
      },
      "text/plain": [
       "HBox(children=(DatePicker(value=Timestamp('2020-02-22 00:00:00+0800', tz='tzlocal()'), description='RangeA Sta…"
      ]
     },
     "metadata": {},
     "output_type": "display_data"
    },
    {
     "data": {
      "application/vnd.jupyter.widget-view+json": {
       "model_id": "c96d272f6429488281634a1fdc7953ec",
       "version_major": 2,
       "version_minor": 0
      },
      "text/plain": [
       "Output()"
      ]
     },
     "metadata": {},
     "output_type": "display_data"
    }
   ],
   "source": [
    "button1 = widgets.Button(description='Set Comparison Date-range', style={'font_weight': 'bold'}, layout=Layout(width='250px'))\n",
    "out1 = widgets.Output()\n",
    "datepicker4 = [widgets.DatePicker(value=val, description=desc, layout=Layout(width='250px'), disabled=False) for desc,val in \n",
    "               [['RangeA Start', DateRangeA[0]], ['RangeA Stop', DateRangeA[1]], ['RangeB Start', DateRangeB[0]], ['RangeB Stop', DateRangeB[1]]]]\n",
    "@out1.capture(clear_output=True)\n",
    "def button_set_compare_range(b):\n",
    "    global DateRangeA, DateRangeB, out\n",
    "    dates = [pd.to_datetime(i.value) for i in datepicker4]\n",
    "    if dates[0:2].count(None)>1 or dates[2:4].count(None)>1:\n",
    "        return\n",
    "    DateRangeA, DateRangeB = dates[0:2], dates[2:4]\n",
    "    print('DateRange set to A=[%.10s, %.10s), B=[%.10s, %.10s)'%(DateRangeA[0], DateRangeA[1], DateRangeB[0], DateRangeB[1]))\n",
    "button1.on_click(button_set_compare_range)\n",
    "display(HBox(datepicker4+[button1]), out1)"
   ]
  },
  {
   "cell_type": "markdown",
   "metadata": {},
   "source": [
    "# Compare stats"
   ]
  },
  {
   "cell_type": "code",
   "execution_count": 8,
   "metadata": {
    "scrolled": false
   },
   "outputs": [
    {
     "data": {
      "application/vnd.jupyter.widget-view+json": {
       "model_id": "36ffb1d6e65846e9ad7b5ec69821d64e",
       "version_major": 2,
       "version_minor": 0
      },
      "text/plain": [
       "interactive(children=(ToggleButton(value=False, description='Show Comparison'), Output()), _dom_classes=('widg…"
      ]
     },
     "metadata": {},
     "output_type": "display_data"
    }
   ],
   "source": [
    "@interact(show=widgets.ToggleButton(value=False,description='Show Comparison'))\n",
    "def show_compare(show):\n",
    "    global compare_res\n",
    "    if not show:\n",
    "        return clear_output()\n",
    "    compare_res = get_compare(all_data, DateRangeA, DateRangeB)\n",
    "    compare_res.index = [c.replace(' ', '_') for c in compare_res.index]\n",
    "    compare_res.loc['_',:] = np.nan\n",
    "    display(compare_res)"
   ]
  },
  {
   "cell_type": "code",
   "execution_count": 10,
   "metadata": {},
   "outputs": [
    {
     "data": {
      "text/html": [
       "<div>\n",
       "<style scoped>\n",
       "    .dataframe tbody tr th:only-of-type {\n",
       "        vertical-align: middle;\n",
       "    }\n",
       "\n",
       "    .dataframe tbody tr th {\n",
       "        vertical-align: top;\n",
       "    }\n",
       "\n",
       "    .dataframe thead th {\n",
       "        text-align: right;\n",
       "    }\n",
       "</style>\n",
       "<table border=\"1\" class=\"dataframe\">\n",
       "  <thead>\n",
       "    <tr style=\"text-align: right;\">\n",
       "      <th></th>\n",
       "      <th>before_mean</th>\n",
       "      <th>before_std</th>\n",
       "      <th>after_mean</th>\n",
       "      <th>after_std</th>\n",
       "      <th>ttest_rel</th>\n",
       "      <th>wilcoxon</th>\n",
       "    </tr>\n",
       "  </thead>\n",
       "  <tbody>\n",
       "    <tr>\n",
       "      <th>accel.hourly_L_std</th>\n",
       "      <td>0.5257</td>\n",
       "      <td>0.3254</td>\n",
       "      <td>0.3697</td>\n",
       "      <td>0.3445</td>\n",
       "      <td>0.0003400</td>\n",
       "      <td>0.0001300</td>\n",
       "    </tr>\n",
       "    <tr>\n",
       "      <th>accel.hourly_ddt_max</th>\n",
       "      <td>0.008067</td>\n",
       "      <td>0.004358</td>\n",
       "      <td>0.005505</td>\n",
       "      <td>0.004131</td>\n",
       "      <td>0.004630</td>\n",
       "      <td>0.0004200</td>\n",
       "    </tr>\n",
       "    <tr>\n",
       "      <th>ambientLight.hourly_max_log1p_lum</th>\n",
       "      <td>2.538</td>\n",
       "      <td>0.7212</td>\n",
       "      <td>2.190</td>\n",
       "      <td>0.5867</td>\n",
       "      <td>0.001340</td>\n",
       "      <td>0.001170</td>\n",
       "    </tr>\n",
       "    <tr>\n",
       "      <th>callLog_Incoming_Call</th>\n",
       "      <td>0.5328</td>\n",
       "      <td>0.8350</td>\n",
       "      <td>0.2881</td>\n",
       "      <td>0.5599</td>\n",
       "      <td>0.001070</td>\n",
       "      <td>0.0004400</td>\n",
       "    </tr>\n",
       "    <tr>\n",
       "      <th>gps-mobility_Hometime</th>\n",
       "      <td>1111.</td>\n",
       "      <td>291.9</td>\n",
       "      <td>1328.</td>\n",
       "      <td>142.6</td>\n",
       "      <td>0.0005400</td>\n",
       "      <td>0.000</td>\n",
       "    </tr>\n",
       "    <tr>\n",
       "      <th>gps-mobility_SigLocsVisited</th>\n",
       "      <td>1.354</td>\n",
       "      <td>0.4285</td>\n",
       "      <td>1.220</td>\n",
       "      <td>0.2882</td>\n",
       "      <td>0.01444</td>\n",
       "      <td>0.02454</td>\n",
       "    </tr>\n",
       "    <tr>\n",
       "      <th>powerState.hourly_n_screen_on</th>\n",
       "      <td>6.716</td>\n",
       "      <td>2.766</td>\n",
       "      <td>5.180</td>\n",
       "      <td>2.438</td>\n",
       "      <td>0.008160</td>\n",
       "      <td>0.008230</td>\n",
       "    </tr>\n",
       "    <tr>\n",
       "      <th>tapsLog.daily_n_unique_app</th>\n",
       "      <td>16.10</td>\n",
       "      <td>4.536</td>\n",
       "      <td>14.24</td>\n",
       "      <td>4.474</td>\n",
       "      <td>0.03975</td>\n",
       "      <td>0.04456</td>\n",
       "    </tr>\n",
       "    <tr>\n",
       "      <th>tapsLog.daily_n_taps_in_entertainment</th>\n",
       "      <td>293.9</td>\n",
       "      <td>258.5</td>\n",
       "      <td>378.3</td>\n",
       "      <td>364.9</td>\n",
       "      <td>0.06885</td>\n",
       "      <td>0.04937</td>\n",
       "    </tr>\n",
       "    <tr>\n",
       "      <th>_</th>\n",
       "      <td>nan</td>\n",
       "      <td>nan</td>\n",
       "      <td>nan</td>\n",
       "      <td>nan</td>\n",
       "      <td>nan</td>\n",
       "      <td>nan</td>\n",
       "    </tr>\n",
       "    <tr>\n",
       "      <th>steps.daily_n_steps</th>\n",
       "      <td>3921.</td>\n",
       "      <td>2991.</td>\n",
       "      <td>2400.</td>\n",
       "      <td>1905.</td>\n",
       "      <td>0.001100</td>\n",
       "      <td>0.0002700</td>\n",
       "    </tr>\n",
       "    <tr>\n",
       "      <th>steps.daily_walk_minutes</th>\n",
       "      <td>113.8</td>\n",
       "      <td>69.29</td>\n",
       "      <td>79.78</td>\n",
       "      <td>46.53</td>\n",
       "      <td>0.0004600</td>\n",
       "      <td>0.0003400</td>\n",
       "    </tr>\n",
       "    <tr>\n",
       "      <th>heart.daily_HR_mean</th>\n",
       "      <td>82.89</td>\n",
       "      <td>5.455</td>\n",
       "      <td>80.35</td>\n",
       "      <td>5.312</td>\n",
       "      <td>0.1045</td>\n",
       "      <td>0.03234</td>\n",
       "    </tr>\n",
       "    <tr>\n",
       "      <th>heart.daily_HR_min</th>\n",
       "      <td>56.08</td>\n",
       "      <td>3.833</td>\n",
       "      <td>55.74</td>\n",
       "      <td>3.895</td>\n",
       "      <td>0.7676</td>\n",
       "      <td>0.2579</td>\n",
       "    </tr>\n",
       "    <tr>\n",
       "      <th>sleep_tot_hrs</th>\n",
       "      <td>9.196</td>\n",
       "      <td>2.770</td>\n",
       "      <td>8.727</td>\n",
       "      <td>2.934</td>\n",
       "      <td>0.3126</td>\n",
       "      <td>0.09551</td>\n",
       "    </tr>\n",
       "    <tr>\n",
       "      <th>sleep_mean_efficiency</th>\n",
       "      <td>93.27</td>\n",
       "      <td>2.550</td>\n",
       "      <td>92.39</td>\n",
       "      <td>2.691</td>\n",
       "      <td>0.03711</td>\n",
       "      <td>0.009450</td>\n",
       "    </tr>\n",
       "  </tbody>\n",
       "</table>\n",
       "</div>"
      ],
      "text/plain": [
       "                                      before_mean before_std after_mean after_std  ttest_rel   wilcoxon\n",
       "accel.hourly_L_std                         0.5257     0.3254     0.3697    0.3445  0.0003400  0.0001300\n",
       "accel.hourly_ddt_max                     0.008067   0.004358   0.005505  0.004131   0.004630  0.0004200\n",
       "ambientLight.hourly_max_log1p_lum           2.538     0.7212      2.190    0.5867   0.001340   0.001170\n",
       "callLog_Incoming_Call                      0.5328     0.8350     0.2881    0.5599   0.001070  0.0004400\n",
       "gps-mobility_Hometime                       1111.      291.9      1328.     142.6  0.0005400      0.000\n",
       "gps-mobility_SigLocsVisited                 1.354     0.4285      1.220    0.2882    0.01444    0.02454\n",
       "powerState.hourly_n_screen_on               6.716      2.766      5.180     2.438   0.008160   0.008230\n",
       "tapsLog.daily_n_unique_app                  16.10      4.536      14.24     4.474    0.03975    0.04456\n",
       "tapsLog.daily_n_taps_in_entertainment       293.9      258.5      378.3     364.9    0.06885    0.04937\n",
       "_                                             nan        nan        nan       nan        nan        nan\n",
       "steps.daily_n_steps                         3921.      2991.      2400.     1905.   0.001100  0.0002700\n",
       "steps.daily_walk_minutes                    113.8      69.29      79.78     46.53  0.0004600  0.0003400\n",
       "heart.daily_HR_mean                         82.89      5.455      80.35     5.312     0.1045    0.03234\n",
       "heart.daily_HR_min                          56.08      3.833      55.74     3.895     0.7676     0.2579\n",
       "sleep_tot_hrs                               9.196      2.770      8.727     2.934     0.3126    0.09551\n",
       "sleep_mean_efficiency                       93.27      2.550      92.39     2.691    0.03711   0.009450"
      ]
     },
     "metadata": {},
     "output_type": "display_data"
    }
   ],
   "source": [
    "if 'compare_res' in globals():\n",
    "    display(compare_res.loc['accel.hourly_L_std accel.hourly_ddt_max ambientLight.hourly_max_log1p_lum callLog_Incoming_Call gps-mobility_Hometime gps-mobility_SigLocsVisited powerState.hourly_n_screen_on \\\n",
    "        tapsLog.daily_n_unique_app tapsLog.daily_n_taps_in_entertainment _ steps.daily_n_steps steps.daily_n_pos_readings heart.daily_HR_mean heart.daily_HR_min sleep_tot_hrs sleep_mean_efficiency'.split(),\n",
    "                        [c for c in 'before_mean before_std after_mean after_std ttest_rel wilcoxon'.split() if c in compare_res.columns]]\\\n",
    "        .applymap(lambda t: t.split()[0] if type(t)==str else t).applymap(lambda t: \"%#.4g\"%float(t)).rename(index={'steps.daily_n_pos_readings':'steps.daily_walk_minutes'}))"
   ]
  },
  {
   "cell_type": "markdown",
   "metadata": {},
   "source": [
    "# Plot Shap"
   ]
  },
  {
   "cell_type": "code",
   "execution_count": null,
   "metadata": {
    "scrolled": false
   },
   "outputs": [],
   "source": [
    "@interact(figwidth=widgets.IntText(value=20, description='Figure width'), show=widgets.ToggleButton(value=False,description='Show Shap Plot'))\n",
    "def show_shap(figwidth, show):\n",
    "    if not show:\n",
    "        return clear_output()\n",
    "    f, shap_values, X = get_shap(all_data, DateRangeA, DateRangeB, figwidth=figwidth, max_display=9999)\n",
    "    # f.savefig(\"/summary_plot1.png\", bbox_inches='tight', dpi=600)"
   ]
  },
  {
   "cell_type": "markdown",
   "metadata": {},
   "source": [
    "# Compare Distribution"
   ]
  },
  {
   "cell_type": "code",
   "execution_count": null,
   "metadata": {},
   "outputs": [],
   "source": [
    "dt2str = lambda dt: str(dt).split()[0]\n",
    "dr2str = lambda dr: dt2str(dr[0]) + '\\t' + dt2str(dr[1])\n",
    "def plot_kde(Users, Feature, DateRanges, Plot):\n",
    "    global compare_res\n",
    "    \n",
    "    if not Plot or not Users:\n",
    "        return clear_output()\n",
    "    def get(df, feature):\n",
    "        return df[feature] if feature in df.columns else summarize(df)[0][feature]\n",
    "    drs = [L.split() for L in DateRanges.split('\\n') if L.strip()]\n",
    "    samples = []\n",
    "    for ii, dr in enumerate(drs, 1):\n",
    "        sample = pd.concat([get(all_data[user][dr[0]:dr[1]], Feature) for user in Users], ignore_index=True).dropna()\n",
    "        if sample.empty: return print('Population in DateRange%d is empty!'%ii)\n",
    "        if len(set(sample))==1: return print('Population in DateRange%d has only 1 value! %s'%(ii, set(sampleA)))\n",
    "        samples += [sample]\n",
    "    os.dfc = dfc = pd.concat(samples, axis=1, ignore_index=True)\n",
    "    dfc.columns = ['KDE [%s, %s)'%(dt2str(dr[0]), dt2str(dr[1])) for dr in drs]\n",
    "    fig, axs = plt.subplots(nrows=1, ncols=2, figsize=[16,4], gridspec_kw={'width_ratios':[2,1]})\n",
    "    dfc.plot.kde(bw_method='silverman', ax=axs[0], figsize=[24,9])\n",
    "    dfc.boxplot(ax=axs[1], rot=45)\n",
    "    \n",
    "def onclick_show_hourly(t):\n",
    "    dropdown2.options = cols_all if showhourly0.value else cols_nohourly\n",
    "\n",
    "if 'all_data' in globals():\n",
    "    dr2str = lambda dr: str(dr[0]).split()[0] + '\\t' + str(dr[1]).split()[0]\n",
    "    cols_all = sorted(set([c[:-4] for c in all_cols if re.search('_\\d\\dh$', c)])|set(all_cols))\n",
    "    cols_nohourly = [c for c in cols_all if not re.search('_\\d\\dh$', c)]\n",
    "    dropdown1 = widgets.SelectMultiple(options=sorted(all_data.keys()), description='Participant', layout=Layout(width='400px'))\n",
    "    dropdown2 = widgets.Dropdown(options=cols_nohourly, description='Feature', layout=Layout(width='400px'))\n",
    "    showhourly0 = widgets.Checkbox(value=False, description='Show hourly features')\n",
    "    showhourly0.observe(onclick_show_hourly)\n",
    "    dateranges = widgets.Textarea(value='2020-02-22\\t2020-04-04\\n2020-04-10\\t2020-05-22\\n2020-06-02\\t2020-06-19\\n2020-06-20\\t2020-08-31', description='DateRanges')\n",
    "    button2 = widgets.ToggleButton(value=False, description='Plot Distribution')\n",
    "    W = interactive(plot_kde, Users=dropdown1, Feature=dropdown2, DateRanges=dateranges, Plot=button2)\n",
    "    display(HBox([dropdown1, VBox([dropdown2, showhourly0]), dateranges, button2]), W.children[-1])"
   ]
  },
  {
   "cell_type": "markdown",
   "metadata": {},
   "source": [
    "# For Testing"
   ]
  },
  {
   "cell_type": "code",
   "execution_count": null,
   "metadata": {
    "scrolled": false
   },
   "outputs": [],
   "source": [
    "if 'all_data' in globals():\n",
    "    for ii,(name, df) in enumerate(all_data.items()):\n",
    "        if ii!=2 or True:\n",
    "            continue\n",
    "        df1 = df[[col for col in df.columns if (col.startswith('tapsLog') and 'dur' in col)]]\n",
    "        display(name)\n",
    "        display(df1.max())"
   ]
  },
  {
   "cell_type": "code",
   "execution_count": null,
   "metadata": {},
   "outputs": [],
   "source": []
  }
 ],
 "metadata": {
  "kernelspec": {
   "display_name": "Python 3",
   "language": "python",
   "name": "python3"
  },
  "language_info": {
   "codemirror_mode": {
    "name": "ipython",
    "version": 3
   },
   "file_extension": ".py",
   "mimetype": "text/x-python",
   "name": "python",
   "nbconvert_exporter": "python",
   "pygments_lexer": "ipython3",
   "version": "3.8.2"
  }
 },
 "nbformat": 4,
 "nbformat_minor": 2
}

{
 "cells": [
  {
   "cell_type": "code",
   "execution_count": 1,
   "metadata": {},
   "outputs": [
    {
     "data": {
      "text/html": [
       "<style>.container { width:100% !important; }</style>"
      ],
      "text/plain": [
       "<IPython.core.display.HTML object>"
      ]
     },
     "metadata": {},
     "output_type": "display_data"
    },
    {
     "data": {
      "text/html": [
       "\n",
       "    <style>\n",
       "       .jupyter-widgets-output-area .output_scroll {\n",
       "            height: unset !important;\n",
       "            border-radius: unset !important;\n",
       "            -webkit-box-shadow: unset !important;\n",
       "            box-shadow: unset !important;\n",
       "        }\n",
       "        .jupyter-widgets-output-area  {\n",
       "            height: auto !important;\n",
       "        }\n",
       "    </style>\n",
       "    "
      ],
      "text/plain": [
       "<IPython.core.display.HTML object>"
      ]
     },
     "metadata": {},
     "output_type": "display_data"
    },
    {
     "data": {
      "application/javascript": [
       "IPython.notebook.set_autosave_interval(0)"
      ]
     },
     "metadata": {},
     "output_type": "display_data"
    },
    {
     "name": "stdout",
     "output_type": "stream",
     "text": [
      "Autosave disabled\n"
     ]
    },
    {
     "data": {
      "application/javascript": [
       "IPython.OutputArea.prototype._should_scroll = function(lines) {return false;} "
      ],
      "text/plain": [
       "<IPython.core.display.Javascript object>"
      ]
     },
     "metadata": {},
     "output_type": "display_data"
    },
    {
     "data": {
      "text/html": [
       "<style>.container { width:100% !important; }</style>"
      ],
      "text/plain": [
       "<IPython.core.display.HTML object>"
      ]
     },
     "metadata": {},
     "output_type": "display_data"
    }
   ],
   "source": [
    "import os, sys, re, io, math\n",
    "import matplotlib, shap\n",
    "import numpy as np\n",
    "import pandas as pd\n",
    "import seaborn as sns\n",
    "import matplotlib.pyplot as plt\n",
    "from matplotlib import cm, colors\n",
    "from matplotlib.patches import Patch\n",
    "from matplotlib.widgets import Slider\n",
    "from collections import *\n",
    "from math import isnan, nan\n",
    "from glob import glob\n",
    "from ipywidgets import *\n",
    "from datetime import datetime, timedelta\n",
    "from termcolor import colored\n",
    "import ipywidgets as widgets\n",
    "from IPython.display import *\n",
    "display(HTML(\"<style>.container { width:100% !important; }</style>\"))\n",
    "pd.options.display.width = 1000\n",
    "pd.options.display.max_columns = 1000\n",
    "pd.options.display.max_rows = 100000\n",
    "pd.options.display.float_format = '{0:f}'.format\n",
    "\n",
    "# Disable scrolling for all output widgets\n",
    "style = \"\"\"\n",
    "    <style>\n",
    "       .jupyter-widgets-output-area .output_scroll {\n",
    "            height: unset !important;\n",
    "            border-radius: unset !important;\n",
    "            -webkit-box-shadow: unset !important;\n",
    "            box-shadow: unset !important;\n",
    "        }\n",
    "        .jupyter-widgets-output-area  {\n",
    "            height: auto !important;\n",
    "        }\n",
    "    </style>\n",
    "    \"\"\"\n",
    "display(HTML(style))\n",
    "\n",
    "# disable autosave so that multiple user browser can attach the same notebook\n",
    "%autosave 0\n",
    "\n",
    "from core import *\n",
    "\n",
    "# enable notebook mode so that we can drag, resize and save plots, but plot will be smaller\n",
    "# %matplotlib notebook"
   ]
  },
  {
   "cell_type": "code",
   "execution_count": 2,
   "metadata": {},
   "outputs": [],
   "source": [
    "# main file path\n",
    "PATH=\"./3.decrypted/izedAa85XXrDS85XlwrOsIDU\""
   ]
  },
  {
   "cell_type": "code",
   "execution_count": 4,
   "metadata": {},
   "outputs": [
    {
     "data": {
      "application/vnd.jupyter.widget-view+json": {
       "model_id": "20c67ab33c974e54acd3ecd500fa0026",
       "version_major": 2,
       "version_minor": 0
      },
      "text/plain": [
       "Button(description='Check Consistency', style=ButtonStyle(font_weight='bold'))"
      ]
     },
     "metadata": {},
     "output_type": "display_data"
    },
    {
     "name": "stdout",
     "output_type": "stream",
     "text": [
      "Checking moht.dsth.009@moht.com.sg_56f4de7d50fa ...\n",
      "Checking moht.dsth.022@moht.com.sg_8c89fea59c22 ...\n",
      "Checking moht.dsth.035@moht.com.sg_4893c9610705 ...\n",
      "Checking moht.dsth.003@moht.com.sg_cdb01556d05e ...\n",
      "Checking moht.dsth.006@moht.com.sg_a23b045b6402 ...\n",
      "Checking moht.dsth.026@moht.com.sg_e5f8902bafb5 ...\n",
      "Checking moht.dsth.031@moht.com.sg_24b9427bb09c ...\n",
      "Checking moht.dsth.017@moht.com.sg_e551519f7675 ...\n",
      "Checking moht.dsth.149@moht.com.sg_715aba340a7f ...\n",
      "Checking moht.dsth.039@moht.com.sg_c18f790c477e ...\n",
      "Checking moht.dsth.004@moht.com.sg_77c22e42696d ...\n",
      "Checking moht.dsth.001@moht.com.sg_a8077a5dd3e8 ...\n",
      "Checking moht.dsth.024@moht.com.sg_a25126125e7e ...\n",
      "Checking moht.dsth.021@moht.com.sg_68468a4a3007 ...\n",
      "Checking moht.dsth.020@moht.com.sg_5842db147d01 ...\n",
      "Checking moht.dsth.012@moht.com.sg_69ed90f14d4f ...\n",
      "Checking moht.dsth.027@moht.com.sg_2cbea652ed82 ...\n",
      "Checking moht.dsth.008@moht.com.sg_68e8d4623416 ...\n",
      "Checking moht.dsth.015@moht.com.sg_a4c08a5b2a9f ...\n",
      "Checking moht.dsth.014@moht.com.sg_fcb01a79b826 ...\n",
      "Checking moht.dsth.018@moht.com.sg_58cfe1bf328e ...\n",
      "Checking moht.dsth.025@moht.com.sg_a171b09aebba ...\n",
      "Checking moht.dsth.032@moht.com.sg_2959f236aea5 ...\n",
      "Checking moht.dsth.023@moht.com.sg_1eccb85dcbf3 ...\n",
      "Checking moht.dsth.019@moht.com.sg_77c669cf3e36 ...\n",
      "Checking moht.dsth.033@moht.com.sg_73b02cb5d521 ...\n",
      "Checking moht.dsth.150@moht.com.sg_e3fb5e097f2b ...\n",
      "Checking moht.dsth.030@moht.com.sg_8c01e11908ae ...\n",
      "Checking moht.dsth.005@moht.com.sg_650cb09d59f6 ...\n",
      "Checking moht.dsth.038@moht.com.sg_72949449ffa7 ...\n",
      "Checking moht.dsth.040@moht.com.sg_8b3b4fdc3ef2 ...\n",
      "Checking moht.dsth.007@moht.com.sg_8ae0c2747ecf ...\n",
      "Checking moht.dsth.029@moht.com.sg_6b98b9c4e551 ...\n",
      "Checking moht.dsth.028@moht.com.sg_9426c6aecde6 ...\n",
      "Checking moht.dsth.016@moht.com.sg_4b9a7ef2fc62 ...\n",
      "Checking moht.dsth.036@moht.com.sg_586f192cfe47 ...\n",
      "Checking moht.dsth.037@moht.com.sg_ca7441109d8a ...\n",
      "Checking moht.dsth.002@moht.com.sg_33d64d38513f ...\n",
      "Checking moht.dsth.011@moht.com.sg_9858208f48e9 ...\n",
      "Checking moht.dsth.010@moht.com.sg_2e64585c5f5b ...\n",
      "Checking moht.dsth.147@moht.com.sg_07fb24711063 ...\n",
      "Checking moht.dsth.034@moht.com.sg_c33bfc713d38 ...\n",
      "Checking moht.dsth.013@moht.com.sg_428bc5645496 ...\n",
      "All finished!\n"
     ]
    }
   ],
   "source": [
    "def on_button_clicked(b):\n",
    "    for userpath in os.listdir(PATH):\n",
    "        if os.path.isdir(PATH+'/'+userpath):\n",
    "            print('Checking %s ...' % userpath)\n",
    "            df_taps = load_df(PATH+'/'+userpath+'/tapsLog.csv.gz', '', -1)\n",
    "            df_acctap = load_df(PATH+'/'+userpath+'/accessibilityLog.csv.gz', '', -1)\n",
    "            df_socmsg = load_df(PATH+'/'+userpath+'/sociabilityMsgLog.csv.gz', '', -1)\n",
    "            df_socall = load_df(PATH+'/'+userpath+'/sociabilityCallLog.csv.gz', '', -1)\n",
    "            if len(df_socmsg.index) == len(df_socall.index) == 0:\n",
    "                df_whatsapp_taps = Try(lambda: df_taps[df_taps.in_app_name.str.contains('whatsapp')], pd.DataFrame())\n",
    "                if len(df_whatsapp_taps.index)>0:\n",
    "                    print('n_socmsg=%d, n_socall=%s, but n_whatsapp_taps=%d'%(len(df_socmsg.index), len(df_socall.index), len(df_whatsapp_taps.index)))\n",
    "                    print(df_whatsapp_taps)\n",
    "            if len(df_taps.index)>0 and len(df_acctap.index)==0:\n",
    "                print('n_taps=%d but n_acctap=%d'%(len(df_taps.index), len(df_acctap.index)))\n",
    "    print('All finished!')\n",
    "button = widgets.Button(description='Check Consistency', style={'font_weight': 'bold'})\n",
    "button.on_click(on_button_clicked)\n",
    "display(button)"
   ]
  },
  {
   "cell_type": "code",
   "execution_count": null,
   "metadata": {},
   "outputs": [],
   "source": []
  }
 ],
 "metadata": {
  "kernelspec": {
   "display_name": "Python 3",
   "language": "python",
   "name": "python3"
  },
  "language_info": {
   "codemirror_mode": {
    "name": "ipython",
    "version": 3
   },
   "file_extension": ".py",
   "mimetype": "text/x-python",
   "name": "python",
   "nbconvert_exporter": "python",
   "pygments_lexer": "ipython3",
   "version": "3.7.4"
  }
 },
 "nbformat": 4,
 "nbformat_minor": 2
}

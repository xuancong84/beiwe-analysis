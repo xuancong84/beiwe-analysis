{
 "cells": [
  {
   "cell_type": "code",
   "execution_count": 1,
   "metadata": {},
   "outputs": [
    {
     "data": {
      "text/html": [
       "<style>.container { width:100% !important; }</style>"
      ],
      "text/plain": [
       "<IPython.core.display.HTML object>"
      ]
     },
     "metadata": {},
     "output_type": "display_data"
    },
    {
     "data": {
      "text/html": [
       "\n",
       "    <style>\n",
       "       .jupyter-widgets-output-area .output_scroll {\n",
       "            height: unset !important;\n",
       "            border-radius: unset !important;\n",
       "            -webkit-box-shadow: unset !important;\n",
       "            box-shadow: unset !important;\n",
       "        }\n",
       "        .jupyter-widgets-output-area  {\n",
       "            height: auto !important;\n",
       "        }\n",
       "    </style>\n",
       "    "
      ],
      "text/plain": [
       "<IPython.core.display.HTML object>"
      ]
     },
     "metadata": {},
     "output_type": "display_data"
    },
    {
     "data": {
      "application/javascript": [
       "IPython.notebook.set_autosave_interval(0)"
      ]
     },
     "metadata": {},
     "output_type": "display_data"
    },
    {
     "name": "stdout",
     "output_type": "stream",
     "text": [
      "Autosave disabled\n"
     ]
    },
    {
     "data": {
      "application/javascript": [
       "IPython.OutputArea.prototype._should_scroll = function(lines) {return false;} "
      ],
      "text/plain": [
       "<IPython.core.display.Javascript object>"
      ]
     },
     "metadata": {},
     "output_type": "display_data"
    },
    {
     "data": {
      "text/html": [
       "<style>.container { width:100% !important; }</style>"
      ],
      "text/plain": [
       "<IPython.core.display.HTML object>"
      ]
     },
     "metadata": {},
     "output_type": "display_data"
    }
   ],
   "source": [
    "import os, sys, re, io, math, json\n",
    "import matplotlib, shap\n",
    "import numpy as np\n",
    "import pandas as pd\n",
    "import seaborn as sns\n",
    "import matplotlib.pyplot as plt\n",
    "from matplotlib import cm, colors\n",
    "from matplotlib.patches import Patch\n",
    "from matplotlib.widgets import Slider\n",
    "from collections import *\n",
    "from math import isnan, nan\n",
    "from glob import glob\n",
    "from ipywidgets import *\n",
    "from datetime import datetime, timedelta\n",
    "from termcolor import colored\n",
    "import ipywidgets as widgets\n",
    "from IPython.display import *\n",
    "display(HTML(\"<style>.container { width:100% !important; }</style>\"))\n",
    "pd.options.display.width = 1000\n",
    "pd.options.display.max_columns = 1000\n",
    "pd.options.display.max_rows = 100000\n",
    "pd.options.display.float_format = '{0:f}'.format\n",
    "\n",
    "# Disable scrolling for all output widgets\n",
    "style = \"\"\"\n",
    "    <style>\n",
    "       .jupyter-widgets-output-area .output_scroll {\n",
    "            height: unset !important;\n",
    "            border-radius: unset !important;\n",
    "            -webkit-box-shadow: unset !important;\n",
    "            box-shadow: unset !important;\n",
    "        }\n",
    "        .jupyter-widgets-output-area  {\n",
    "            height: auto !important;\n",
    "        }\n",
    "    </style>\n",
    "    \"\"\"\n",
    "display(HTML(style))\n",
    "\n",
    "# disable autosave so that multiple user browser can attach the same notebook\n",
    "%autosave 0\n",
    "\n",
    "from core import *\n",
    "\n",
    "# enable notebook mode so that we can drag, resize and save plots, but plot will be smaller\n",
    "# %matplotlib notebook"
   ]
  },
  {
   "cell_type": "code",
   "execution_count": 2,
   "metadata": {},
   "outputs": [],
   "source": [
    "# main file path\n",
    "PATH=\"./3.decrypted/izedAa85XXrDS85XlwrOsIDU\""
   ]
  },
  {
   "cell_type": "markdown",
   "metadata": {},
   "source": [
    "# Check Consistency between taps and sociabilities"
   ]
  },
  {
   "cell_type": "code",
   "execution_count": 3,
   "metadata": {},
   "outputs": [
    {
     "data": {
      "application/vnd.jupyter.widget-view+json": {
       "model_id": "7c9afc552485467f8ec94b048ae97fff",
       "version_major": 2,
       "version_minor": 0
      },
      "text/plain": [
       "Button(description='Check Consistency', style=ButtonStyle(font_weight='bold'))"
      ]
     },
     "metadata": {},
     "output_type": "display_data"
    }
   ],
   "source": [
    "def on_button_clicked(b):\n",
    "    for userpath in sorted(os.listdir(PATH)):\n",
    "        if os.path.isdir(PATH+'/'+userpath):\n",
    "            print('Checking %s ...' % userpath)\n",
    "            df_taps = load_df(PATH+'/'+userpath+'/tapsLog.csv.gz', '', -1)\n",
    "            df_acctap = load_df(PATH+'/'+userpath+'/accessibilityLog.csv.gz', '', -1)\n",
    "            df_socmsg = load_df(PATH+'/'+userpath+'/sociabilityMsgLog.csv.gz', '', -1)\n",
    "            df_socall = load_df(PATH+'/'+userpath+'/sociabilityCallLog.csv.gz', '', -1)\n",
    "            if len(df_socmsg.index) == len(df_socall.index) == 0:\n",
    "                df_whatsapp_taps = Try(lambda: df_taps[df_taps.in_app_name.str.contains('whatsapp')], pd.DataFrame())\n",
    "                if len(df_whatsapp_taps.index)>0:\n",
    "                    print('n_socmsg=%d, n_socall=%s, but n_whatsapp_taps=%d'%(len(df_socmsg.index), len(df_socall.index), len(df_whatsapp_taps.index)))\n",
    "                    print(df_whatsapp_taps)\n",
    "            if len(df_taps.index)>0 and len(df_acctap.index)==0:\n",
    "                print('n_taps=%d but n_acctap=%d'%(len(df_taps.index), len(df_acctap.index)))\n",
    "    print('All finished!')\n",
    "button = widgets.Button(description='Check Consistency', style={'font_weight': 'bold'})\n",
    "button.on_click(on_button_clicked)\n",
    "display(button)"
   ]
  },
  {
   "cell_type": "markdown",
   "metadata": {},
   "source": [
    "# Data Completeness Check"
   ]
  },
  {
   "cell_type": "code",
   "execution_count": 4,
   "metadata": {
    "scrolled": true
   },
   "outputs": [
    {
     "data": {
      "application/vnd.jupyter.widget-view+json": {
       "model_id": "fb8776714c0541f98b90f75301bc1850",
       "version_major": 2,
       "version_minor": 0
      },
      "text/plain": [
       "Button(description='Start Check', style=ButtonStyle())"
      ]
     },
     "metadata": {},
     "output_type": "display_data"
    }
   ],
   "source": [
    "def merge_stat(dfs, max_datetime):\n",
    "    s = pd.DataFrame([df['timestamp'].groupby(pd.Grouper(freq='D')).count() for df in dfs if len(df.index)]).transpose().sum(axis=1)\n",
    "    return pd.DataFrame({'timestamp':s}) if s.size else pd.DataFrame({'timestamp':[0]}, index=[max_datetime])\n",
    "\n",
    "def get_date_info(fn):\n",
    "    df = pd.read_excel('/home/HOPES/HOPES-date-info.xlsx')\n",
    "    df['END'] = df.apply(lambda r: pd.to_datetime(r['TERMINATION'] if type(r['VISIT 5'])!=str else r['VISIT 5']).tz_localize('tzlocal()'), axis=1)\n",
    "    df['BEGIN'] = df.apply(lambda r: pd.to_datetime(' '.join(r['ONBOARDING'].split()[:3])).tz_localize('tzlocal()'), axis=1)\n",
    "    return df[['PARTICIPANT', 'BEGIN', 'END']].set_index('PARTICIPANT')\n",
    "\n",
    "def get_stat(fn, df, th, meta, begin_date, end_date):\n",
    "    end_date += pd.to_timedelta('1D')\n",
    "    total_days = (end_date-begin_date)/pd.to_timedelta('1D')\n",
    "    if th>0:\n",
    "        cnt = df.sort_index()[begin_date:end_date]['timestamp'].groupby(pd.Grouper(freq='1D')).count()>=th\n",
    "        return cnt.sum(), total_days\n",
    "    else:\n",
    "        dfm = pd.Series(1, index=pd.to_datetime(os.meta['accel'], unit='ms', utc=True).tz_convert('tzlocal()')).groupby(pd.Grouper(freq='D')).sum()>1\n",
    "        return dfm.sum(), total_days\n",
    "\n",
    "def monitor(lastN=400, verbose=1):\n",
    "    os.df_dates = df_dates = get_date_info('/home/HOPES/HOPES-date-info.xlsx')\n",
    "    fmap = {'ambientLight.csv.gz':24, 'accessibilityLog.csv.gz':2, 'tapsLog.csv.gz':2, 'callLog.csv.gz':0, 'smsLog.csv.gz':0, 'sociabilityMsgLog.csv.gz':0,\n",
    "            'sociabilityCallLog.csv.gz':0, 'heart.csv.gz':24, 'sleep.csv.gz':1, 'steps.csv.gz':24, 'accel.csv.gz':24, 'gps.csv.gz':1, 'powerState.csv.gz':2}\n",
    "    df = pd.DataFrame()\n",
    "    df_stat = pd.DataFrame(columns=sorted([s.split('.')[0] for s in fmap]))\n",
    "    df_num = df_stat.copy()\n",
    "    df_den = df_stat.copy()\n",
    "    for username in dropdown_userlist.options:\n",
    "        UID = 'S'+username[10:13]\n",
    "        if UID not in df_dates.index: continue\n",
    "        \n",
    "        if not os.path.isfile(PATH + '/' + username + '/ambientLight.csv.gz'):\n",
    "            if verbose>0: print('Skipping User %s' % username)\n",
    "            continue\n",
    "\n",
    "        if verbose>0:print('Loading data from %s ' % username, end='')\n",
    "        os.meta = meta = json.load(Open(PATH + '/' + username + '/meta.json.gz'))\n",
    "        os.dfs = dfs = [(load_df(PATH + '/' + username + '/' +fn, '', -1, low_memory=False), print('.' if verbose>0 else '', end='', flush=True))[0] for fn in fmap]\n",
    "        \n",
    "        for fn, df1 in zip(fmap.keys(), dfs):\n",
    "            n_pass, n_total = get_stat(fn, df1, fmap[fn], meta, df_dates.loc[UID,'BEGIN'], df_dates.loc[UID,'END'])\n",
    "            sn = fn.split('.')[0]\n",
    "            if verbose>0: print('%s=%d/%d'%(sn, n_pass, n_total), end=' ', flush=True)\n",
    "            df_num.loc[UID, sn] = n_pass\n",
    "            df_den.loc[UID, sn] = n_total\n",
    "            df_stat.loc[UID, sn] = n_pass/n_total\n",
    "\n",
    "        try:\n",
    "            max_datetime = max([df.index.max() for df in dfs if len(df.index)]).floor('D')\n",
    "        except:\n",
    "            if verbose > 0: print('Skip')\n",
    "            continue\n",
    "\n",
    "        os.all5 = phone1, phone2, phone3, fitbit1, fitbit2 = [merge_stat([dfs[i] for i in s], max_datetime) for s in [[0], [1, 2], [3, 4, 5, 6], [7], [8]]]\n",
    "\n",
    "        # Fitbit steps need to sum over every day group\n",
    "        fitbit0 = (dfs[9] if len(dfs[9].index) else pd.DataFrame({'StepsCount': [0]},\n",
    "                   index=[max_datetime]))[['StepsCount']].groupby(pd.Grouper(freq='D')).sum()\n",
    "\n",
    "        # Build phone colors\n",
    "        phoneC = pd.concat([phone1, phone2, phone3], axis=1).fillna(0).sort_index() \\\n",
    "            .apply(lambda x: 3 if x[2] else (2 if x[1] else (1 if x[0] else 0)), axis=1)\n",
    "\n",
    "        # Build Fitbit colors\n",
    "        fitbitC = pd.concat([fitbit0, fitbit1, fitbit2], axis=1).fillna(0).sort_index() \\\n",
    "            .apply(lambda x: 3 if x[2] else (2 if x[1] else (1 if x[0] else 0)), axis=1)\n",
    "        \n",
    "        df = df.join(pd.DataFrame({UID+' phone': phoneC, UID + ' fitbit':fitbitC}), how='outer')\n",
    "\n",
    "        if verbose>0:print('Done')\n",
    "            \n",
    "    # outside study period set to 0\n",
    "    oneday = pd.to_timedelta('1D')\n",
    "    for PID, (first_date, last_date) in df_dates.iterrows():\n",
    "        for fea in [' phone', ' fitbit']:\n",
    "            df.loc[:first_date-oneday, PID+fea] = -1\n",
    "            df.loc[last_date+oneday:, PID+fea] = -1\n",
    "    df = df.loc[df_dates['BEGIN'].min():df_dates['END'].max(), :]\n",
    "    \n",
    "    # print overall completion rate table\n",
    "    df_stat['<AggMEAN>'] = df_num.sum(axis=1)/df_den.sum(axis=1)\n",
    "    df_stat.loc['<AggMEAN>', :] = df_num.sum(axis=0)/df_den.sum(axis=0)\n",
    "    df_stat.loc['<AggMEAN>', '<AggMEAN>'] = df_num.values.sum()/df_den.values.sum()\n",
    "    display(HTML('\\n<b><font color=red>Data Completion rate:</b></font>'), df_stat)\n",
    "        \n",
    "    print('Plotting dashboard ...')\n",
    "    plt.switch_backend('module://ipykernel.pylab.backend_inline')\n",
    "    os.df = df = df.fillna(0).astype(int)\n",
    "    os.data = data = df.transpose()\n",
    "    \n",
    "    # draw 2D grid\n",
    "    Nx, Ny = len(data.columns), len(data.index)\n",
    "    fig, ax = plt.subplots(figsize=(Nx/4,Ny))\n",
    "    ax.title.set_size(30)\n",
    "    ax.title.set_text('Participant Data Completion Dashboard')\n",
    "    cmap = colors.ListedColormap(['white', 'black', 'red', 'orange', 'green'])\n",
    "    norm = colors.BoundaryNorm([-1.5,-0.5,0.5,1.5,2.5,3.5], cmap.N)\n",
    "    ax.grid(False)\n",
    "    ax.imshow(data, cmap=cmap, norm=norm)\n",
    "\n",
    "    # x-axis is the date\n",
    "    ax.set_xticklabels('')\n",
    "    ax.set_xticks(np.arange(0.5, Nx+0.5, 1), minor=True)\n",
    "    ax.set_xticklabels(data.columns, minor=True, rotation=45, ha='right')\n",
    "    ax.xaxis.grid(True, which='minor', linewidth=0.5)\n",
    "    \n",
    "    # y-axis is the Patient ID\n",
    "    ax.set_yticks(np.arange(-0.5, Ny+0.5, 2))\n",
    "    ax.set_yticklabels(['']+[re.sub('@[^ ]* ',' ',s) for s in data.index[1::2]], fontdict={'family':'monospace'}, va='bottom')\n",
    "    ax.yaxis.grid(True, which='major', linewidth=4)\n",
    "    \n",
    "    ax.set_yticks(np.arange(0.5, Ny+0.5, 2), minor=True)\n",
    "    ax.set_yticklabels([re.sub('@[^ ]* ',' ',s) for s in data.index[0::2]], fontdict={'family':'monospace'}, minor=True, va='bottom')\n",
    "    ax.yaxis.grid(True, which='minor', linewidth=0.5)\n",
    "    \n",
    "    # legend\n",
    "    ax.add_artist(plt.legend(handles=[Patch(color='green', label='sensor+taps+social'), Patch(color='orange', label='sensor+taps'),\n",
    "                        Patch(color='red', label='sensor only'), Patch(color='black', label='no data')], title='Phone',\n",
    "                        loc='lower center', bbox_to_anchor=(0.1, 1)))\n",
    "    ax.add_artist(plt.legend(handles=[Patch(color='green', label='steps+heart+sleep'), Patch(color='orange', label='steps+heart'),\n",
    "                        Patch(color='red', label='steps only'), Patch(color='black', label='no data')], title='Fitbit',\n",
    "                        loc='lower center', bbox_to_anchor=(0.9, 1)))\n",
    "\n",
    "    plt.show()\n",
    "    display(HTML('\\n<b><font color=red>Numerator (number of days having feature data):</b></font>'), df_num)\n",
    "    display(HTML('\\n<b><font color=red>Denominator (number of days enrolled in the study):</b></font>'), df_den)\n",
    "    \n",
    "button = widgets.Button(description=\"Start Check\")\n",
    "button.on_click(monitor)\n",
    "display(button)"
   ]
  },
  {
   "cell_type": "code",
   "execution_count": 5,
   "metadata": {},
   "outputs": [],
   "source": [
    "def align_begin(df_, r=1):\n",
    "    df = df_.copy()\n",
    "    n_max = 0\n",
    "    for i in range(2, df.index.size, 2):\n",
    "        L = [v!=-1 for v in df.iloc[i, :].values.tolist()]\n",
    "        posi = L.index(True)\n",
    "        n_max = max(n_max, L.count(True))\n",
    "        df.iloc[i:i+2, 0:-posi] = df.iloc[i:i+2, posi:].values\n",
    "        df.iloc[i:i+2, -posi:] = -1\n",
    "    return df.iloc[:, :(int(n_max*r) if r<=1 else r)]\n",
    "\n",
    "\n",
    "def draw(r=1):\n",
    "    data = align_begin(os.data, r)\n",
    "\n",
    "    # draw 2D grid\n",
    "    Nx, Ny = len(data.columns), len(data.index)\n",
    "    fig, ax = plt.subplots(figsize=(Nx/4,Ny))\n",
    "    ax.title.set_size(30)\n",
    "    ax.title.set_text('Participant Data Completion Dashboard')\n",
    "    cmap = colors.ListedColormap(['white', 'black', 'red', 'orange', 'green'])\n",
    "    norm = colors.BoundaryNorm([-1.5,-0.5,0.5,1.5,2.5,3.5], cmap.N)\n",
    "    ax.grid(False)\n",
    "    ax.imshow(data, cmap=cmap, norm=norm)\n",
    "\n",
    "    # x-axis is the date\n",
    "    ax.set_xticklabels('')\n",
    "    ax.set_xticks(np.arange(0.5, Nx+0.5, 1), minor=True)\n",
    "#     ax.set_xticklabels(data.columns, minor=True, rotation=45, ha='right')\n",
    "    ax.xaxis.grid(True, which='minor', linewidth=0.5)\n",
    "\n",
    "    # y-axis is the Patient ID\n",
    "    ax.set_yticks(np.arange(-0.5, Ny+0.5, 2))\n",
    "    ax.set_yticklabels(['']+[re.sub('@[^ ]* ',' ',s) for s in data.index[1::2]], fontdict={'family':'monospace'}, va='bottom')\n",
    "    ax.yaxis.grid(True, which='major', linewidth=4)\n",
    "\n",
    "    ax.set_yticks(np.arange(0.5, Ny+0.5, 2), minor=True)\n",
    "    ax.set_yticklabels([re.sub('@[^ ]* ',' ',s) for s in data.index[0::2]], fontdict={'family':'monospace'}, minor=True, va='bottom')\n",
    "    ax.yaxis.grid(True, which='minor', linewidth=0.5)\n",
    "\n",
    "    # legend\n",
    "    ax.add_artist(plt.legend(handles=[Patch(color='green', label='sensor+taps+social'), Patch(color='orange', label='sensor+taps'),\n",
    "                        Patch(color='red', label='sensor only'), Patch(color='black', label='no data')], title='Phone',\n",
    "                        loc='lower center', bbox_to_anchor=(0.1, 1)))\n",
    "    ax.add_artist(plt.legend(handles=[Patch(color='green', label='steps+heart+sleep'), Patch(color='orange', label='steps+heart'),\n",
    "                        Patch(color='red', label='steps only'), Patch(color='black', label='no data')], title='Fitbit',\n",
    "                        loc='lower center', bbox_to_anchor=(0.9, 1)))\n",
    "\n",
    "    plt.show()\n",
    "    \n",
    "if hasattr(os, 'data'):\n",
    "    draw()\n",
    "    draw(180)"
   ]
  },
  {
   "cell_type": "markdown",
   "metadata": {},
   "source": [
    "# Fitbit Wear Minutes Tally"
   ]
  },
  {
   "cell_type": "code",
   "execution_count": 6,
   "metadata": {},
   "outputs": [
    {
     "data": {
      "application/vnd.jupyter.widget-view+json": {
       "model_id": "b67a913c69b044e480fa8659d28ce706",
       "version_major": 2,
       "version_minor": 0
      },
      "text/plain": [
       "Button(description='Start Tally', style=ButtonStyle())"
      ]
     },
     "metadata": {},
     "output_type": "display_data"
    }
   ],
   "source": [
    "def Open(fn, mode='r', **kwargs):\n",
    "\tif fn == '-':\n",
    "\t\treturn sys.stdin if mode.startswith('r') else sys.stdout\n",
    "\tfn = os.path.expanduser(fn)\n",
    "\treturn gzip.open(fn, mode, **kwargs) if fn.lower().endswith('.gz') else open(fn, mode, **kwargs)\n",
    "\n",
    "def preprocess_df(df):\n",
    "\t# convert timestamp to datetime and set as index\n",
    "\tdt = pd.to_datetime(df['timestamp'], unit = 'ms', origin = 'unix', utc = True)\n",
    "\tdf = df.set_index(pd.DatetimeIndex(dt).tz_convert('tzlocal()')).sort_index()\n",
    "\n",
    "\t# remove rows with duplicate timestamp\n",
    "\tdf = df.loc[~df.index.duplicated(keep = 'last')]\n",
    "\tdf.index.name = 'datetime'\n",
    "\treturn df\n",
    "\n",
    "def load_and_preprocess(fn):\n",
    "\tdf = pd.read_csv(Open(fn))\n",
    "\treturn preprocess_df(df)\n",
    "\n",
    "\n",
    "def run1(_):\n",
    "    # START\n",
    "    # Load start and stop date\n",
    "    df = pd.read_csv(PATH+'/study_users.csv', sep='\\s*,\\s*', index_col=0)\n",
    "    start_dates, end_dates = {}, {}\n",
    "    for p_name,p_data in df.iterrows():\n",
    "        name = p_name[:p_name.find('@')]\n",
    "        start_dates[name] = pd.Timestamp(p_data.enrol_date, tz='tzlocal()')+pd.Timedelta('1D')\n",
    "        if p_data.completed or p_data.withdrew or p_data.relapsed:\n",
    "            end_dates[name] = pd.Timestamp(p_data.last_visit_date, tz='tzlocal()')\n",
    "        else:\n",
    "            end_dates[name] = pd.Timestamp.now(tz='tzlocal()').floor('D')\n",
    "        if end_dates[name]<start_dates[name]:\n",
    "            end_dates[name],start_dates[name] = start_dates[name],end_dates[name]\n",
    "    #     print(name, start_dates[name], end_dates[name])\n",
    "\n",
    "    # Tally wear minutes\n",
    "    DF = pd.DataFrame()\n",
    "    for f in sorted(os.listdir(PATH)):\n",
    "        fn = PATH+'/'+f+'/steps.csv.gz'\n",
    "        if not os.path.isfile(fn):\n",
    "            continue\n",
    "        df = load_and_preprocess(fn)\n",
    "        p_name = f[:f.find('@')]\n",
    "        df = df[start_dates[p_name]:end_dates[p_name]-pd.Timedelta('1s')]\n",
    "        ser = df.groupby(pd.Grouper(freq='1D'))['StepsCount'].count().fillna(0)\n",
    "        DF = DF.append({'patient_id':p_name, 'first_day':str(start_dates[p_name]).split()[0], 'last_day':str(end_dates[p_name]-pd.Timedelta('1D')).split()[0], \n",
    "                        'mean(daily_wear_hrs)':ser.mean()/60, 'std(daily_wear_hrs)':(ser/60).std(), 'max(daily_wear_hrs)':ser.max()/60,\n",
    "                       'min(daily_wear_hrs)':ser.min()/60}, ignore_index=True)\n",
    "        print('.', end='', flush=True)\n",
    "    #     if p_name=='moht.dsth.002':break\n",
    "\n",
    "    pd.options.display.float_format = \"{:,.2f}\".format\n",
    "    DF = DF.set_index('patient_id')\n",
    "    display(DF)\n",
    "    display(DF.iloc[0:-1,:].mean())\n",
    "    \n",
    "button1 = widgets.Button(description=\"Start Tally\")\n",
    "button1.on_click(run1)\n",
    "display(button1)"
   ]
  },
  {
   "cell_type": "code",
   "execution_count": null,
   "metadata": {},
   "outputs": [],
   "source": []
  }
 ],
 "metadata": {
  "kernelspec": {
   "display_name": "Python 3",
   "language": "python",
   "name": "python3"
  },
  "language_info": {
   "codemirror_mode": {
    "name": "ipython",
    "version": 3
   },
   "file_extension": ".py",
   "mimetype": "text/x-python",
   "name": "python",
   "nbconvert_exporter": "python",
   "pygments_lexer": "ipython3",
   "version": "3.8.2"
  }
 },
 "nbformat": 4,
 "nbformat_minor": 2
}

{
 "cells": [
  {
   "cell_type": "markdown",
   "metadata": {},
   "source": [
    "# Beiwe"
   ]
  },
  {
   "cell_type": "code",
   "execution_count": 55,
   "metadata": {},
   "outputs": [
    {
     "data": {
      "text/html": [
       "<style>.container { width:100% !important; }</style>"
      ],
      "text/plain": [
       "<IPython.core.display.HTML object>"
      ]
     },
     "metadata": {},
     "output_type": "display_data"
    }
   ],
   "source": [
    "import os, sys, matplotlib, re, io, traceback, math\n",
    "import numpy as np\n",
    "import pandas as pd\n",
    "import seaborn as sns\n",
    "import matplotlib.pyplot as plt\n",
    "from math import isnan, nan\n",
    "from matplotlib.widgets import Slider\n",
    "from glob import glob\n",
    "from ipywidgets import *\n",
    "from datetime import datetime, timedelta\n",
    "from dateutil.tz import tzlocal\n",
    "import ipywidgets as widgets\n",
    "from IPython.display import clear_output, display, HTML\n",
    "display(HTML(\"<style>.container { width:100% !important; }</style>\"))\n",
    "pd.options.display.width = 1000\n",
    "pd.options.display.max_columns = 1000\n",
    "pd.options.display.max_rows = 100000"
   ]
  },
  {
   "cell_type": "code",
   "execution_count": 2,
   "metadata": {},
   "outputs": [],
   "source": [
    "# Setup all paths and sources\n",
    "data_path = os.getenv('HOME')+'/projects/beiwe-data/GxXEPM08ZK0GS1gIaLe9YhEn/'\n",
    "user_list = os.listdir(data_path)\n",
    "feature_list = ['accel', 'callLog', 'tapsLog', 'usage', 'accessibilityLog', 'gps', 'light', 'powerState', 'textsLog']\n",
    "user_map = {'Nikolas old ZTE':'16kbga47', 'Nikolas':'1s3g19f7', 'IMH1-Judy':'33kr56tx',\n",
    "            'IMH2-Amirah':'1tfan3jn', 'Nikolas old Nokia':'8e3ukdwy', 'Praveen':'d35pt9m4',\n",
    "            'Faye':'drdlfo5c', 'Robert':'gqmrnhvv', 'Xuancong':'hcy9th57'}\n",
    "\n",
    "df_all, cols_all = {}, {}"
   ]
  },
  {
   "cell_type": "code",
   "execution_count": 210,
   "metadata": {},
   "outputs": [],
   "source": [
    "# utility functions\n",
    "def convert_timestamp(timestamp, zone=tzlocal()):\n",
    "    data = pd.to_datetime(str(timestamp), unit='ms', origin='unix')\n",
    "    return data.tz_localize('UTC').tz_convert(zone) if zone != 'UTC' else data\n",
    "\n",
    "def load_csv(fn, **kwargs):\n",
    "    Ls = open(fn).read().splitlines()\n",
    "    for i,L in enumerate(Ls):\n",
    "        if i>0 and not L[0:13].isdigit():\n",
    "            Ls[i-1] = ''.join(Ls[i-1:i+1])\n",
    "            Ls[i] = ''\n",
    "    txt = re.sub(r'(\\[[^]]*),([^]]*\\])', '\\\\1\\\\2', '\\n'.join([L for L in Ls if L]))\n",
    "    txt = re.sub(r'(\\[[^]]*),([^]]*\\])', '\\\\1\\\\2', txt)\n",
    "    txt = re.sub(r'(\\[[^]]*),([^]]*\\])', '\\\\1\\\\2', txt)\n",
    "    try:\n",
    "        ret = pd.read_csv(io.StringIO(txt), **kwargs)\n",
    "    except:\n",
    "        traceback.print_exc()\n",
    "        print('CSV error: in File %s ...'%fn[len(data_path):])\n",
    "    return ret\n",
    "\n",
    "def create_df(user, feature):\n",
    "    dir_path = os.path.join(data_path, user, feature)\n",
    "    df = pd.concat([load_csv(fn, error_bad_lines=True) for fn in sorted(glob(dir_path+'/*.csv'))])\n",
    "#     print(df.columns)\n",
    "    if 'timestamp' in df.columns:\n",
    "        df['datetime'] = df.timestamp.apply(convert_timestamp)\n",
    "    df = df.reset_index(drop=True)\n",
    "    return df\n",
    "\n",
    "def load_col(user, feature):\n",
    "    dir_path = os.path.join(data_path, user, feature)\n",
    "    df = load_csv(glob(dir_path+'/*.csv')[0], error_bad_lines=False)\n",
    "    return df.columns\n",
    "\n",
    "def date2datetime(d):\n",
    "    return datetime(d.year, d.month, d.day, tzinfo=tzlocal())\n",
    "\n",
    "def generate_colormap(N):\n",
    "    arr = np.arange(N)/N\n",
    "    N_up = int(np.ceil(N/7)*7)\n",
    "    arr.resize(N_up)\n",
    "    arr = arr.reshape(7,N_up//7).T.reshape(-1)\n",
    "    ret = matplotlib.cm.hsv(arr)\n",
    "    n = ret[:,3].size\n",
    "    a = n//2\n",
    "    b = n-a\n",
    "    for i in range(3):\n",
    "        ret[0:n//2,i] *= np.arange(0.2,1,0.8/a)\n",
    "    ret[n//2:,3] *= np.arange(1,0.2,-0.8/b)\n",
    "    return ret\n",
    "\n",
    "F1 = {'number of readings':'.count()', 'max value':'.max()', 'min value':'.min()', 'mean value':'.mean()', 'grouped values':''}\n",
    "daysofweek = ['Monday', 'Tuesday', 'Wednesday', 'Thursday', 'Friday', 'Saturday', 'Sunday']"
   ]
  },
  {
   "cell_type": "code",
   "execution_count": 482,
   "metadata": {},
   "outputs": [],
   "source": [
    "d0 = create_df(user_map['Praveen'], 'tapsLog')\n",
    "d0 = d0.ffill()"
   ]
  },
  {
   "cell_type": "code",
   "execution_count": 488,
   "metadata": {},
   "outputs": [
    {
     "ename": "AttributeError",
     "evalue": "Cannot access callable attribute 'reset_index' of 'DataFrameGroupBy' objects, try using the 'apply' method",
     "output_type": "error",
     "traceback": [
      "\u001b[0;31m---------------------------------------------------------------------------\u001b[0m",
      "\u001b[0;31mAttributeError\u001b[0m                            Traceback (most recent call last)",
      "\u001b[0;32m<ipython-input-488-6e16fbbbce86>\u001b[0m in \u001b[0;36m<module>\u001b[0;34m\u001b[0m\n\u001b[1;32m     18\u001b[0m \u001b[0;34m\u001b[0m\u001b[0m\n\u001b[1;32m     19\u001b[0m \u001b[0mdata\u001b[0m \u001b[0;34m=\u001b[0m \u001b[0mdata0\u001b[0m\u001b[0;34m.\u001b[0m\u001b[0mgroupby\u001b[0m\u001b[0;34m(\u001b[0m\u001b[0mpd\u001b[0m\u001b[0;34m.\u001b[0m\u001b[0mGrouper\u001b[0m\u001b[0;34m(\u001b[0m\u001b[0mfreq\u001b[0m\u001b[0;34m=\u001b[0m\u001b[0mInterval\u001b[0m\u001b[0;34m,\u001b[0m \u001b[0mkey\u001b[0m\u001b[0;34m=\u001b[0m\u001b[0;34m'datetime'\u001b[0m\u001b[0;34m)\u001b[0m\u001b[0;34m)\u001b[0m\u001b[0;34m\u001b[0m\u001b[0;34m\u001b[0m\u001b[0m\n\u001b[0;32m---> 20\u001b[0;31m \u001b[0mdata\u001b[0m\u001b[0;34m.\u001b[0m\u001b[0mreset_index\u001b[0m\u001b[0;34m(\u001b[0m\u001b[0;34m)\u001b[0m\u001b[0;34m\u001b[0m\u001b[0;34m\u001b[0m\u001b[0m\n\u001b[0m\u001b[1;32m     21\u001b[0m \u001b[0;31m# map_null = lambda t:t if len(t) else {selected_cls[0]:0}\u001b[0m\u001b[0;34m\u001b[0m\u001b[0;34m\u001b[0m\u001b[0;34m\u001b[0m\u001b[0m\n\u001b[1;32m     22\u001b[0m \u001b[0;31m# data = pd.DataFrame.from_dict({g[0]:map_null(g[1][SelCol].value_counts()) for g in data}, orient='index').fillna(0)\u001b[0m\u001b[0;34m\u001b[0m\u001b[0;34m\u001b[0m\u001b[0;34m\u001b[0m\u001b[0m\n",
      "\u001b[0;32m~/anaconda3/lib/python3.7/site-packages/pandas/core/groupby/groupby.py\u001b[0m in \u001b[0;36m__getattr__\u001b[0;34m(self, attr)\u001b[0m\n\u001b[1;32m    531\u001b[0m             \u001b[0;32mreturn\u001b[0m \u001b[0mself\u001b[0m\u001b[0;34m[\u001b[0m\u001b[0mattr\u001b[0m\u001b[0;34m]\u001b[0m\u001b[0;34m\u001b[0m\u001b[0;34m\u001b[0m\u001b[0m\n\u001b[1;32m    532\u001b[0m         \u001b[0;32mif\u001b[0m \u001b[0mhasattr\u001b[0m\u001b[0;34m(\u001b[0m\u001b[0mself\u001b[0m\u001b[0;34m.\u001b[0m\u001b[0mobj\u001b[0m\u001b[0;34m,\u001b[0m \u001b[0mattr\u001b[0m\u001b[0;34m)\u001b[0m\u001b[0;34m:\u001b[0m\u001b[0;34m\u001b[0m\u001b[0;34m\u001b[0m\u001b[0m\n\u001b[0;32m--> 533\u001b[0;31m             \u001b[0;32mreturn\u001b[0m \u001b[0mself\u001b[0m\u001b[0;34m.\u001b[0m\u001b[0m_make_wrapper\u001b[0m\u001b[0;34m(\u001b[0m\u001b[0mattr\u001b[0m\u001b[0;34m)\u001b[0m\u001b[0;34m\u001b[0m\u001b[0;34m\u001b[0m\u001b[0m\n\u001b[0m\u001b[1;32m    534\u001b[0m \u001b[0;34m\u001b[0m\u001b[0m\n\u001b[1;32m    535\u001b[0m         raise AttributeError(\"%r object has no attribute %r\" %\n",
      "\u001b[0;32m~/anaconda3/lib/python3.7/site-packages/pandas/core/groupby/groupby.py\u001b[0m in \u001b[0;36m_make_wrapper\u001b[0;34m(self, name)\u001b[0m\n\u001b[1;32m    568\u001b[0m                    \"using the 'apply' method\".format(kind, name,\n\u001b[1;32m    569\u001b[0m                                                      type(self).__name__))\n\u001b[0;32m--> 570\u001b[0;31m             \u001b[0;32mraise\u001b[0m \u001b[0mAttributeError\u001b[0m\u001b[0;34m(\u001b[0m\u001b[0mmsg\u001b[0m\u001b[0;34m)\u001b[0m\u001b[0;34m\u001b[0m\u001b[0;34m\u001b[0m\u001b[0m\n\u001b[0m\u001b[1;32m    571\u001b[0m \u001b[0;34m\u001b[0m\u001b[0m\n\u001b[1;32m    572\u001b[0m         \u001b[0mself\u001b[0m\u001b[0;34m.\u001b[0m\u001b[0m_set_group_selection\u001b[0m\u001b[0;34m(\u001b[0m\u001b[0;34m)\u001b[0m\u001b[0;34m\u001b[0m\u001b[0;34m\u001b[0m\u001b[0m\n",
      "\u001b[0;31mAttributeError\u001b[0m: Cannot access callable attribute 'reset_index' of 'DataFrameGroupBy' objects, try using the 'apply' method"
     ]
    }
   ],
   "source": [
    "SelCol = 'in_app_name'\n",
    "Interval = '1D'\n",
    "Extra = 21\n",
    "figsize = [16,9]\n",
    "\n",
    "data = d0[['datetime',SelCol]].groupby(pd.Grouper(freq=Interval, key='datetime'))\n",
    "\n",
    "\n",
    "data0 = data.filter(lambda t:True)\n",
    "stats = data0[SelCol].value_counts()\n",
    "N_cls_present = stats.size\n",
    "N_cls = min(Extra, N_cls_present)\n",
    "selected_cls = stats.index.tolist()[:N_cls]\n",
    "if N_cls_present > N_cls:\n",
    "    data0[SelCol] = data0[SelCol].apply(lambda t:t if t in selected_cls else '<Others>')\n",
    "    selected_cls += ['<Others>']\n",
    "    N_cls += 1\n",
    "\n",
    "data = data0.groupby(pd.Grouper(freq=Interval, key='datetime'))\n",
    "data.reset_index()\n",
    "# map_null = lambda t:t if len(t) else {selected_cls[0]:0}\n",
    "# data = pd.DataFrame.from_dict({g[0]:map_null(g[1][SelCol].value_counts()) for g in data}, orient='index').fillna(0)\n",
    "# xy_plot = data[selected_cls[::-1]].plot.bar(stacked=True, rot=45, figsize=figsize, color=generate_colormap(N_cls))\n",
    "# xy_plot.set_xticklabels(xy_plot.get_xticklabels(), ha='right')\n",
    "# xy_plot.get_figure().subplots_adjust(right=0.8)\n",
    "# xy_plot.legend(loc='center left', prop={'size': 10}, bbox_to_anchor=(1,0,0.2,1))\n"
   ]
  },
  {
   "cell_type": "code",
   "execution_count": 450,
   "metadata": {},
   "outputs": [
    {
     "data": {
      "text/html": [
       "<div>\n",
       "<style scoped>\n",
       "    .dataframe tbody tr th:only-of-type {\n",
       "        vertical-align: middle;\n",
       "    }\n",
       "\n",
       "    .dataframe tbody tr th {\n",
       "        vertical-align: top;\n",
       "    }\n",
       "\n",
       "    .dataframe thead th {\n",
       "        text-align: right;\n",
       "    }\n",
       "</style>\n",
       "<table border=\"1\" class=\"dataframe\">\n",
       "  <thead>\n",
       "    <tr style=\"text-align: right;\">\n",
       "      <th></th>\n",
       "      <th></th>\n",
       "      <th>http_status</th>\n",
       "      <th>response_time</th>\n",
       "    </tr>\n",
       "    <tr>\n",
       "      <th>username</th>\n",
       "      <th>browser</th>\n",
       "      <th></th>\n",
       "      <th></th>\n",
       "    </tr>\n",
       "  </thead>\n",
       "  <tbody>\n",
       "    <tr>\n",
       "      <th rowspan=\"4\" valign=\"top\">user1</th>\n",
       "      <th>Firefox</th>\n",
       "      <td>200</td>\n",
       "      <td>0.04</td>\n",
       "    </tr>\n",
       "    <tr>\n",
       "      <th>Chrome</th>\n",
       "      <td>234</td>\n",
       "      <td>2.10</td>\n",
       "    </tr>\n",
       "    <tr>\n",
       "      <th>Konqueror</th>\n",
       "      <td>301</td>\n",
       "      <td>1.00</td>\n",
       "    </tr>\n",
       "    <tr>\n",
       "      <th>Safari</th>\n",
       "      <td>404</td>\n",
       "      <td>0.07</td>\n",
       "    </tr>\n",
       "    <tr>\n",
       "      <th rowspan=\"3\" valign=\"top\">user2</th>\n",
       "      <th>Firefox</th>\n",
       "      <td>213</td>\n",
       "      <td>2.30</td>\n",
       "    </tr>\n",
       "    <tr>\n",
       "      <th>Chrome</th>\n",
       "      <td>200</td>\n",
       "      <td>0.02</td>\n",
       "    </tr>\n",
       "    <tr>\n",
       "      <th>IE10</th>\n",
       "      <td>404</td>\n",
       "      <td>0.08</td>\n",
       "    </tr>\n",
       "  </tbody>\n",
       "</table>\n",
       "</div>"
      ],
      "text/plain": [
       "                    http_status  response_time\n",
       "username browser                              \n",
       "user1    Firefox            200           0.04\n",
       "         Chrome             234           2.10\n",
       "         Konqueror          301           1.00\n",
       "         Safari             404           0.07\n",
       "user2    Firefox            213           2.30\n",
       "         Chrome             200           0.02\n",
       "         IE10               404           0.08"
      ]
     },
     "execution_count": 450,
     "metadata": {},
     "output_type": "execute_result"
    }
   ],
   "source": [
    "df = pd.DataFrame({\n",
    "     'browser': ['Firefox', 'Chrome', 'Safari', 'IE10', 'Konqueror', 'Firefox', 'Chrome'],\n",
    "     'http_status': [200,200,404,404,301,213,234],\n",
    "     'response_time': [0.04, 0.02, 0.07, 0.08, 1.0, 2.3, 2.1],\n",
    "     'username': ['user1', 'user2', 'user1', 'user2', 'user1', 'user2', 'user1']}\n",
    "     )\n",
    "M_fwd = {'Chrome':1, 'Firefox':0, 'Konqueror':2, 'Safari':3, 'IE10':4}\n",
    "M_rev = {j:i for i,j in M_fwd.items()}\n",
    "df['sort_browser'] = df['browser'].map(M_fwd)\n",
    "df = df.set_index(['username', 'sort_browser']).sort_index()\n",
    "df = df.rename(index=M_rev, level=1).drop(columns='browser')\n",
    "df = df.rename_axis(index={'sort_browser':'browser'})\n",
    "# df = df.append({'browser':'Safari', 'http_status':300}, ignore_index=True)\n",
    "df\n",
    "# df['sorting_column'] = df['browser'].map({'chrome' : 0, 'firefox': 1})"
   ]
  },
  {
   "cell_type": "code",
   "execution_count": 491,
   "metadata": {
    "scrolled": true
   },
   "outputs": [
    {
     "data": {
      "text/html": [
       "<div>\n",
       "<style scoped>\n",
       "    .dataframe tbody tr th:only-of-type {\n",
       "        vertical-align: middle;\n",
       "    }\n",
       "\n",
       "    .dataframe tbody tr th {\n",
       "        vertical-align: top;\n",
       "    }\n",
       "\n",
       "    .dataframe thead th {\n",
       "        text-align: right;\n",
       "    }\n",
       "</style>\n",
       "<table border=\"1\" class=\"dataframe\">\n",
       "  <thead>\n",
       "    <tr style=\"text-align: right;\">\n",
       "      <th></th>\n",
       "      <th>a</th>\n",
       "      <th>b</th>\n",
       "      <th>c</th>\n",
       "    </tr>\n",
       "  </thead>\n",
       "  <tbody>\n",
       "    <tr>\n",
       "      <th>row1</th>\n",
       "      <td>1</td>\n",
       "      <td>2</td>\n",
       "      <td>NaN</td>\n",
       "    </tr>\n",
       "    <tr>\n",
       "      <th>row2</th>\n",
       "      <td>3</td>\n",
       "      <td>4</td>\n",
       "      <td>5.0</td>\n",
       "    </tr>\n",
       "  </tbody>\n",
       "</table>\n",
       "</div>"
      ],
      "text/plain": [
       "      a  b    c\n",
       "row1  1  2  NaN\n",
       "row2  3  4  5.0"
      ]
     },
     "execution_count": 491,
     "metadata": {},
     "output_type": "execute_result"
    }
   ],
   "source": [
    "pd.DataFrame.from_dict(data={'row1':{'a':1, 'b':2}, 'row2': {'a':3, 'b':4, 'c':5}, 'row3':{}}, orient='index')"
   ]
  },
  {
   "cell_type": "code",
   "execution_count": 543,
   "metadata": {},
   "outputs": [
    {
     "data": {
      "text/html": [
       "<div>\n",
       "<style scoped>\n",
       "    .dataframe tbody tr th:only-of-type {\n",
       "        vertical-align: middle;\n",
       "    }\n",
       "\n",
       "    .dataframe tbody tr th {\n",
       "        vertical-align: top;\n",
       "    }\n",
       "\n",
       "    .dataframe thead th {\n",
       "        text-align: right;\n",
       "    }\n",
       "</style>\n",
       "<table border=\"1\" class=\"dataframe\">\n",
       "  <thead>\n",
       "    <tr style=\"text-align: right;\">\n",
       "      <th></th>\n",
       "      <th>Timestamp</th>\n",
       "      <th>Food</th>\n",
       "      <th>Datetime</th>\n",
       "    </tr>\n",
       "  </thead>\n",
       "  <tbody>\n",
       "    <tr>\n",
       "      <th>0</th>\n",
       "      <td>1565083561</td>\n",
       "      <td>apple</td>\n",
       "      <td>2019-08-06 09:26:01</td>\n",
       "    </tr>\n",
       "    <tr>\n",
       "      <th>1</th>\n",
       "      <td>1565169961</td>\n",
       "      <td>apple</td>\n",
       "      <td>2019-08-07 09:26:01</td>\n",
       "    </tr>\n",
       "    <tr>\n",
       "      <th>2</th>\n",
       "      <td>1565170061</td>\n",
       "      <td>banana</td>\n",
       "      <td>2019-08-07 09:27:41</td>\n",
       "    </tr>\n",
       "    <tr>\n",
       "      <th>3</th>\n",
       "      <td>1565256361</td>\n",
       "      <td>banana</td>\n",
       "      <td>2019-08-08 09:26:01</td>\n",
       "    </tr>\n",
       "    <tr>\n",
       "      <th>4</th>\n",
       "      <td>1565342761</td>\n",
       "      <td>orange</td>\n",
       "      <td>2019-08-09 09:26:01</td>\n",
       "    </tr>\n",
       "    <tr>\n",
       "      <th>5</th>\n",
       "      <td>1565343061</td>\n",
       "      <td>orange</td>\n",
       "      <td>2019-08-09 09:31:01</td>\n",
       "    </tr>\n",
       "    <tr>\n",
       "      <th>6</th>\n",
       "      <td>1565429161</td>\n",
       "      <td>pear</td>\n",
       "      <td>2019-08-10 09:26:01</td>\n",
       "    </tr>\n",
       "  </tbody>\n",
       "</table>\n",
       "</div>"
      ],
      "text/plain": [
       "    Timestamp    Food            Datetime\n",
       "0  1565083561   apple 2019-08-06 09:26:01\n",
       "1  1565169961   apple 2019-08-07 09:26:01\n",
       "2  1565170061  banana 2019-08-07 09:27:41\n",
       "3  1565256361  banana 2019-08-08 09:26:01\n",
       "4  1565342761  orange 2019-08-09 09:26:01\n",
       "5  1565343061  orange 2019-08-09 09:31:01\n",
       "6  1565429161    pear 2019-08-10 09:26:01"
      ]
     },
     "metadata": {},
     "output_type": "display_data"
    },
    {
     "name": "stdout",
     "output_type": "stream",
     "text": [
      "(Timestamp('2019-08-06 00:00:00', freq='D'),     Timestamp   Food            Datetime\n",
      "0  1565083561  apple 2019-08-06 09:26:01)\n",
      "(Timestamp('2019-08-07 00:00:00', freq='D'),     Timestamp    Food            Datetime\n",
      "1  1565169961   apple 2019-08-07 09:26:01\n",
      "2  1565170061  banana 2019-08-07 09:27:41)\n",
      "(Timestamp('2019-08-08 00:00:00', freq='D'),     Timestamp    Food            Datetime\n",
      "3  1565256361  banana 2019-08-08 09:26:01)\n",
      "(Timestamp('2019-08-09 00:00:00', freq='D'),     Timestamp    Food            Datetime\n",
      "4  1565342761  orange 2019-08-09 09:26:01\n",
      "5  1565343061  orange 2019-08-09 09:31:01)\n",
      "(Timestamp('2019-08-10 00:00:00', freq='D'),     Timestamp  Food            Datetime\n",
      "6  1565429161  pear 2019-08-10 09:26:01)\n",
      "This does not crash:\n"
     ]
    },
    {
     "data": {
      "text/plain": [
       "Datetime    Food  \n",
       "2019-08-06  apple     1\n",
       "2019-08-07  apple     1\n",
       "            banana    1\n",
       "2019-08-08  banana    1\n",
       "2019-08-09  orange    2\n",
       "2019-08-10  pear      1\n",
       "Name: Food, dtype: int64"
      ]
     },
     "metadata": {},
     "output_type": "display_data"
    },
    {
     "data": {
      "text/html": [
       "<div>\n",
       "<style scoped>\n",
       "    .dataframe tbody tr th:only-of-type {\n",
       "        vertical-align: middle;\n",
       "    }\n",
       "\n",
       "    .dataframe tbody tr th {\n",
       "        vertical-align: top;\n",
       "    }\n",
       "\n",
       "    .dataframe thead th {\n",
       "        text-align: right;\n",
       "    }\n",
       "</style>\n",
       "<table border=\"1\" class=\"dataframe\">\n",
       "  <thead>\n",
       "    <tr style=\"text-align: right;\">\n",
       "      <th></th>\n",
       "      <th>Timestamp</th>\n",
       "      <th>Food</th>\n",
       "      <th>Datetime</th>\n",
       "    </tr>\n",
       "  </thead>\n",
       "  <tbody>\n",
       "    <tr>\n",
       "      <th>0</th>\n",
       "      <td>1565083561</td>\n",
       "      <td>apple</td>\n",
       "      <td>2019-08-06 09:26:01</td>\n",
       "    </tr>\n",
       "    <tr>\n",
       "      <th>1</th>\n",
       "      <td>1565169961</td>\n",
       "      <td>apple</td>\n",
       "      <td>2019-08-07 09:26:01</td>\n",
       "    </tr>\n",
       "    <tr>\n",
       "      <th>2</th>\n",
       "      <td>1565170061</td>\n",
       "      <td>banana</td>\n",
       "      <td>2019-08-07 09:27:41</td>\n",
       "    </tr>\n",
       "    <tr>\n",
       "      <th>4</th>\n",
       "      <td>1565342761</td>\n",
       "      <td>orange</td>\n",
       "      <td>2019-08-09 09:26:01</td>\n",
       "    </tr>\n",
       "    <tr>\n",
       "      <th>5</th>\n",
       "      <td>1565343061</td>\n",
       "      <td>orange</td>\n",
       "      <td>2019-08-09 09:31:01</td>\n",
       "    </tr>\n",
       "    <tr>\n",
       "      <th>6</th>\n",
       "      <td>1565429161</td>\n",
       "      <td>pear</td>\n",
       "      <td>2019-08-10 09:26:01</td>\n",
       "    </tr>\n",
       "  </tbody>\n",
       "</table>\n",
       "</div>"
      ],
      "text/plain": [
       "    Timestamp    Food            Datetime\n",
       "0  1565083561   apple 2019-08-06 09:26:01\n",
       "1  1565169961   apple 2019-08-07 09:26:01\n",
       "2  1565170061  banana 2019-08-07 09:27:41\n",
       "4  1565342761  orange 2019-08-09 09:26:01\n",
       "5  1565343061  orange 2019-08-09 09:31:01\n",
       "6  1565429161    pear 2019-08-10 09:26:01"
      ]
     },
     "metadata": {},
     "output_type": "display_data"
    },
    {
     "name": "stdout",
     "output_type": "stream",
     "text": [
      "(Timestamp('2019-08-06 00:00:00', freq='D'),     Timestamp   Food            Datetime\n",
      "0  1565083561  apple 2019-08-06 09:26:01)\n",
      "(Timestamp('2019-08-07 00:00:00', freq='D'),     Timestamp    Food            Datetime\n",
      "1  1565169961   apple 2019-08-07 09:26:01\n",
      "2  1565170061  banana 2019-08-07 09:27:41)\n",
      "(Timestamp('2019-08-08 00:00:00', freq='D'), Empty DataFrame\n",
      "Columns: [Timestamp, Food, Datetime]\n",
      "Index: [])\n",
      "(Timestamp('2019-08-09 00:00:00', freq='D'),     Timestamp    Food            Datetime\n",
      "4  1565342761  orange 2019-08-09 09:26:01\n",
      "5  1565343061  orange 2019-08-09 09:31:01)\n",
      "(Timestamp('2019-08-10 00:00:00', freq='D'),     Timestamp  Food            Datetime\n",
      "6  1565429161  pear 2019-08-10 09:26:01)\n",
      "This will cause crash:\n"
     ]
    },
    {
     "ename": "ValueError",
     "evalue": "operands could not be broadcast together with shape (5,) (4,)",
     "output_type": "error",
     "traceback": [
      "\u001b[0;31m---------------------------------------------------------------------------\u001b[0m",
      "\u001b[0;31mValueError\u001b[0m                                Traceback (most recent call last)",
      "\u001b[0;32m<ipython-input-543-5efc1c882109>\u001b[0m in \u001b[0;36m<module>\u001b[0;34m\u001b[0m\n\u001b[1;32m     14\u001b[0m \u001b[0;34m[\u001b[0m\u001b[0mprint\u001b[0m\u001b[0;34m(\u001b[0m\u001b[0mg\u001b[0m\u001b[0;34m)\u001b[0m \u001b[0;32mfor\u001b[0m \u001b[0mg\u001b[0m \u001b[0;32min\u001b[0m \u001b[0mdfg\u001b[0m\u001b[0;34m]\u001b[0m\u001b[0;34m\u001b[0m\u001b[0;34m\u001b[0m\u001b[0m\n\u001b[1;32m     15\u001b[0m \u001b[0mprint\u001b[0m\u001b[0;34m(\u001b[0m\u001b[0;34m'This will cause crash:'\u001b[0m\u001b[0;34m)\u001b[0m\u001b[0;34m\u001b[0m\u001b[0;34m\u001b[0m\u001b[0m\n\u001b[0;32m---> 16\u001b[0;31m \u001b[0mdisplay\u001b[0m\u001b[0;34m(\u001b[0m\u001b[0mdfg\u001b[0m\u001b[0;34m[\u001b[0m\u001b[0;34m'Food'\u001b[0m\u001b[0;34m]\u001b[0m\u001b[0;34m.\u001b[0m\u001b[0mvalue_counts\u001b[0m\u001b[0;34m(\u001b[0m\u001b[0;34m)\u001b[0m\u001b[0;34m)\u001b[0m\u001b[0;34m\u001b[0m\u001b[0;34m\u001b[0m\u001b[0m\n\u001b[0m",
      "\u001b[0;32m~/anaconda3/lib/python3.7/site-packages/pandas/core/groupby/generic.py\u001b[0m in \u001b[0;36mvalue_counts\u001b[0;34m(self, normalize, sort, ascending, bins, dropna)\u001b[0m\n\u001b[1;32m   1137\u001b[0m \u001b[0;34m\u001b[0m\u001b[0m\n\u001b[1;32m   1138\u001b[0m         \u001b[0;31m# multi-index components\u001b[0m\u001b[0;34m\u001b[0m\u001b[0;34m\u001b[0m\u001b[0;34m\u001b[0m\u001b[0m\n\u001b[0;32m-> 1139\u001b[0;31m         \u001b[0mlabels\u001b[0m \u001b[0;34m=\u001b[0m \u001b[0mlist\u001b[0m\u001b[0;34m(\u001b[0m\u001b[0mmap\u001b[0m\u001b[0;34m(\u001b[0m\u001b[0mrep\u001b[0m\u001b[0;34m,\u001b[0m \u001b[0mself\u001b[0m\u001b[0;34m.\u001b[0m\u001b[0mgrouper\u001b[0m\u001b[0;34m.\u001b[0m\u001b[0mrecons_labels\u001b[0m\u001b[0;34m)\u001b[0m\u001b[0;34m)\u001b[0m \u001b[0;34m+\u001b[0m \u001b[0;34m[\u001b[0m\u001b[0mllab\u001b[0m\u001b[0;34m(\u001b[0m\u001b[0mlab\u001b[0m\u001b[0;34m,\u001b[0m \u001b[0minc\u001b[0m\u001b[0;34m)\u001b[0m\u001b[0;34m]\u001b[0m\u001b[0;34m\u001b[0m\u001b[0;34m\u001b[0m\u001b[0m\n\u001b[0m\u001b[1;32m   1140\u001b[0m         \u001b[0mlevels\u001b[0m \u001b[0;34m=\u001b[0m \u001b[0;34m[\u001b[0m\u001b[0mping\u001b[0m\u001b[0;34m.\u001b[0m\u001b[0mgroup_index\u001b[0m \u001b[0;32mfor\u001b[0m \u001b[0mping\u001b[0m \u001b[0;32min\u001b[0m \u001b[0mself\u001b[0m\u001b[0;34m.\u001b[0m\u001b[0mgrouper\u001b[0m\u001b[0;34m.\u001b[0m\u001b[0mgroupings\u001b[0m\u001b[0;34m]\u001b[0m \u001b[0;34m+\u001b[0m \u001b[0;34m[\u001b[0m\u001b[0mlev\u001b[0m\u001b[0;34m]\u001b[0m\u001b[0;34m\u001b[0m\u001b[0;34m\u001b[0m\u001b[0m\n\u001b[1;32m   1141\u001b[0m         \u001b[0mnames\u001b[0m \u001b[0;34m=\u001b[0m \u001b[0mself\u001b[0m\u001b[0;34m.\u001b[0m\u001b[0mgrouper\u001b[0m\u001b[0;34m.\u001b[0m\u001b[0mnames\u001b[0m \u001b[0;34m+\u001b[0m \u001b[0;34m[\u001b[0m\u001b[0mself\u001b[0m\u001b[0;34m.\u001b[0m\u001b[0m_selection_name\u001b[0m\u001b[0;34m]\u001b[0m\u001b[0;34m\u001b[0m\u001b[0;34m\u001b[0m\u001b[0m\n",
      "\u001b[0;32m~/anaconda3/lib/python3.7/site-packages/numpy/core/fromnumeric.py\u001b[0m in \u001b[0;36mrepeat\u001b[0;34m(a, repeats, axis)\u001b[0m\n\u001b[1;32m    469\u001b[0m \u001b[0;34m\u001b[0m\u001b[0m\n\u001b[1;32m    470\u001b[0m     \"\"\"\n\u001b[0;32m--> 471\u001b[0;31m     \u001b[0;32mreturn\u001b[0m \u001b[0m_wrapfunc\u001b[0m\u001b[0;34m(\u001b[0m\u001b[0ma\u001b[0m\u001b[0;34m,\u001b[0m \u001b[0;34m'repeat'\u001b[0m\u001b[0;34m,\u001b[0m \u001b[0mrepeats\u001b[0m\u001b[0;34m,\u001b[0m \u001b[0maxis\u001b[0m\u001b[0;34m=\u001b[0m\u001b[0maxis\u001b[0m\u001b[0;34m)\u001b[0m\u001b[0;34m\u001b[0m\u001b[0;34m\u001b[0m\u001b[0m\n\u001b[0m\u001b[1;32m    472\u001b[0m \u001b[0;34m\u001b[0m\u001b[0m\n\u001b[1;32m    473\u001b[0m \u001b[0;34m\u001b[0m\u001b[0m\n",
      "\u001b[0;32m~/anaconda3/lib/python3.7/site-packages/numpy/core/fromnumeric.py\u001b[0m in \u001b[0;36m_wrapfunc\u001b[0;34m(obj, method, *args, **kwds)\u001b[0m\n\u001b[1;32m     54\u001b[0m \u001b[0;32mdef\u001b[0m \u001b[0m_wrapfunc\u001b[0m\u001b[0;34m(\u001b[0m\u001b[0mobj\u001b[0m\u001b[0;34m,\u001b[0m \u001b[0mmethod\u001b[0m\u001b[0;34m,\u001b[0m \u001b[0;34m*\u001b[0m\u001b[0margs\u001b[0m\u001b[0;34m,\u001b[0m \u001b[0;34m**\u001b[0m\u001b[0mkwds\u001b[0m\u001b[0;34m)\u001b[0m\u001b[0;34m:\u001b[0m\u001b[0;34m\u001b[0m\u001b[0;34m\u001b[0m\u001b[0m\n\u001b[1;32m     55\u001b[0m     \u001b[0;32mtry\u001b[0m\u001b[0;34m:\u001b[0m\u001b[0;34m\u001b[0m\u001b[0;34m\u001b[0m\u001b[0m\n\u001b[0;32m---> 56\u001b[0;31m         \u001b[0;32mreturn\u001b[0m \u001b[0mgetattr\u001b[0m\u001b[0;34m(\u001b[0m\u001b[0mobj\u001b[0m\u001b[0;34m,\u001b[0m \u001b[0mmethod\u001b[0m\u001b[0;34m)\u001b[0m\u001b[0;34m(\u001b[0m\u001b[0;34m*\u001b[0m\u001b[0margs\u001b[0m\u001b[0;34m,\u001b[0m \u001b[0;34m**\u001b[0m\u001b[0mkwds\u001b[0m\u001b[0;34m)\u001b[0m\u001b[0;34m\u001b[0m\u001b[0;34m\u001b[0m\u001b[0m\n\u001b[0m\u001b[1;32m     57\u001b[0m \u001b[0;34m\u001b[0m\u001b[0m\n\u001b[1;32m     58\u001b[0m     \u001b[0;31m# An AttributeError occurs if the object does not have\u001b[0m\u001b[0;34m\u001b[0m\u001b[0;34m\u001b[0m\u001b[0;34m\u001b[0m\u001b[0m\n",
      "\u001b[0;31mValueError\u001b[0m: operands could not be broadcast together with shape (5,) (4,)"
     ]
    }
   ],
   "source": [
    "import pandas as pd\n",
    "df = pd.DataFrame({'Timestamp':[1565083561, 1565083561+86400, 1565083561+86500, 1565083561+86400*2, 1565083561+86400*3, 1565083561+86500*3, 1565083561+86400*4],\n",
    "                   'Food':['apple', 'apple', 'banana', 'banana', 'orange', 'orange', 'pear']})\n",
    "df['Datetime'] = pd.to_datetime(df['Timestamp'].apply(lambda t:str(t)), unit='s')\n",
    "display(df)\n",
    "dfg = df.groupby(pd.Grouper(freq='1D', key='Datetime'))\n",
    "[print(g) for g in dfg]\n",
    "print('This does not crash:')\n",
    "display(dfg['Food'].value_counts())\n",
    "\n",
    "df = df.drop([3])\n",
    "display(df)\n",
    "dfg = df.groupby(pd.Grouper(freq='1D', key='Datetime'))\n",
    "[print(g) for g in dfg]\n",
    "print('This will cause crash:')\n",
    "display(dfg['Food'].value_counts())"
   ]
  },
  {
   "cell_type": "code",
   "execution_count": 140,
   "metadata": {
    "scrolled": false
   },
   "outputs": [
    {
     "data": {
      "application/vnd.jupyter.widget-view+json": {
       "model_id": "ac41a24e39284c4ba3442fe6383880dc",
       "version_major": 2,
       "version_minor": 0
      },
      "text/plain": [
       "interactive(children=(IntSlider(value=10, continuous_update=False, description='Extra', max=80, min=1), Output…"
      ]
     },
     "metadata": {},
     "output_type": "display_data"
    }
   ],
   "source": [
    "Extra=30\n",
    "SelCol='in_app_name'\n",
    "figsize=[20,20]\n",
    "\n",
    "def generate_colormap(N):\n",
    "    arr = np.arange(N)/N\n",
    "    N_up = int(math.ceil(N/7)*7)\n",
    "    arr.resize(N_up)\n",
    "    arr = arr.reshape(7,N_up//7).T.reshape(-1)\n",
    "    ret = matplotlib.cm.hsv(arr)\n",
    "    n = ret[:,3].size\n",
    "    a = n//2\n",
    "    b = n-a\n",
    "    for i in range(3):\n",
    "        ret[0:n//2,i] *= np.arange(0.2,1,0.8/a)\n",
    "    ret[n//2:,3] *= np.arange(1,0.2,-0.8/b)\n",
    "#     print(ret)\n",
    "    return ret\n",
    "\n",
    "@interact(Extra=IntSlider(value=10, min=1, max=80, continuous_update=False))\n",
    "def update(Extra):\n",
    "    data = d0.copy()\n",
    "    data = data[SelCol].value_counts()\n",
    "    N_classes = min(Extra, len(data))\n",
    "    sel_classes = data[:N_classes]\n",
    "    if len(data)>N_classes:\n",
    "        sel_classes['<Others>'] = data[N_classes:].sum()\n",
    "    data = sel_classes[::-1]\n",
    "    N_total = len(data)\n",
    "    print('Total number of categories (including [other]) = %d'%N_total)\n",
    "    fig_sz = np.clip(N_total,8,24)\n",
    "    xy_plot = data.plot.pie(figsize=[fig_sz,fig_sz], title=SelCol, colors=generate_colormap(N_total))"
   ]
  },
  {
   "cell_type": "code",
   "execution_count": 197,
   "metadata": {},
   "outputs": [
    {
     "data": {
      "image/png": "[encoded data removed]",
      "text/plain": [
       "<Figure size 720x720 with 1 Axes>"
      ]
     },
     "metadata": {
      "needs_background": "light"
     },
     "output_type": "display_data"
    }
   ],
   "source": [
    "import numpy as np\n",
    "import matplotlib.pyplot as plt\n",
    "from matplotlib.colors import ListedColormap\n",
    "\n",
    "def generate_colormap(N):\n",
    "    S = 7\n",
    "    arr = np.arange(N)/N\n",
    "    N_up = int(math.ceil(N/S)*S)\n",
    "    arr.resize(N_up)\n",
    "    arr = arr.reshape(S,N_up//S).T.reshape(-1)\n",
    "    ret = matplotlib.cm.hsv(arr)\n",
    "    n = ret[:,3].size\n",
    "    a = n//2\n",
    "    b = n-a\n",
    "    for i in range(3):\n",
    "        ret[0:n//2,i] *= np.arange(0.2,1,0.8/a)\n",
    "    ret[n//2:,3] *= np.arange(1,0.1,-0.9/b)\n",
    "#     print(ret)\n",
    "    return ret\n",
    "\n",
    "N = 16\n",
    "H = np.arange(N*N).reshape([N,N])\n",
    "fig = plt.figure(figsize=(10, 10))\n",
    "ax = plt.pcolor(H, cmap=ListedColormap(generate_colormap(N*N)))\n"
   ]
  },
  {
   "cell_type": "code",
   "execution_count": null,
   "metadata": {},
   "outputs": [],
   "source": [
    "plt.switch_backend('nbAgg')\n",
    "Interval = '1D'\n",
    "SelCol = 'in_app_name'\n",
    "figsize = (15,8)\n",
    "data = d0.groupby([pd.Grouper(freq=Interval, key='datetime'), pd.Grouper(key=SelCol)])\n",
    "\n",
    "data0 = data.filter(lambda t:True)\n",
    "data = data0.groupby([pd.Grouper(freq=Interval, key='datetime'), pd.Grouper(key=SelCol)])\n",
    "N_colors = data0[SelCol].value_counts().size\n",
    "colors = matplotlib.cm.hsv(np.arange(10)/10)\n",
    "xy_plot = data.size().unstack().plot.bar(stacked=True, rot=45, figsize=figsize, color=colors)\n",
    "xy_plot.set_xticklabels(xy_plot.get_xticklabels(), ha='right')\n",
    "xy_plot.get_figure().subplots_adjust(right=0.8)\n",
    "xy_plot.legend(loc='best', prop={'size': 7}, bbox_to_anchor=(1,0,0.15,1))"
   ]
  },
  {
   "cell_type": "code",
   "execution_count": null,
   "metadata": {
    "scrolled": false
   },
   "outputs": [],
   "source": [
    "SelCol = 'in_app_name'\n",
    "data = d0.copy().ffill()\n",
    "\n",
    "data0 = data\n",
    "classes = data0[SelCol].value_counts()\n",
    "sel_classes[]"
   ]
  },
  {
   "cell_type": "code",
   "execution_count": null,
   "metadata": {},
   "outputs": [],
   "source": [
    "d1['in_app_name'].value_counts().size"
   ]
  },
  {
   "cell_type": "code",
   "execution_count": null,
   "metadata": {},
   "outputs": [],
   "source": [
    "interval0 = Dropdown(options=['15min', '30min', '1H', '2H', '3H', '6H', '12H', '1D', '2D', '1W', '1M'], value='1D', description='Bin Interval')\n",
    "\n",
    "interval0.layout.visibility = 'hidden'\n",
    "display(interval0)"
   ]
  },
  {
   "cell_type": "code",
   "execution_count": null,
   "metadata": {},
   "outputs": [],
   "source": [
    "# 1. XY-path axis range, add option\n",
    "# 2. CSV bug, Nikola accessibilityLog\n",
    "# 3. add option, sorting\n",
    "# 4. add select column\n",
    "# 5. show raw data\n",
    "# %matplotlib notebook\n",
    "# matplotlib.use('nbAgg')\n",
    "plt.switch_backend('nbAgg')\n",
    "matplotlib.get_backend()"
   ]
  },
  {
   "cell_type": "markdown",
   "metadata": {},
   "source": [
    "# Test"
   ]
  },
  {
   "cell_type": "code",
   "execution_count": null,
   "metadata": {},
   "outputs": [],
   "source": [
    "df = pd.DataFrame({'B':[4,5,4,1,5,4],\n",
    "                   'C':[7,8,9,4,2,3],\n",
    "                   'D':[1,3,5,7,1,0],\n",
    "                   'E':[5,3,6,9,2,4]})\n",
    "\n",
    "# df1 = df2 = df.copy()\n",
    "# fig, axes = plt.subplots(nrows=2, ncols=2)\n",
    "# df1.plot(x='B', y='C', ax=axes[0,0])\n",
    "# df1.plot(x='B', y='D', ax=axes[0,1])\n",
    "# df1.plot(x='B', y='E', ax=axes[1,0])\n",
    "df.plot.bar()"
   ]
  },
  {
   "cell_type": "code",
   "execution_count": null,
   "metadata": {},
   "outputs": [],
   "source": [
    "display(df)\n",
    "aa=df.groupby('B')"
   ]
  },
  {
   "cell_type": "code",
   "execution_count": null,
   "metadata": {
    "scrolled": true
   },
   "outputs": [],
   "source": [
    "# xwid = FloatSlider(min=-1, max=1, description='x', continuous_update=False)\n",
    "# ywid = FloatSlider(min=-1, max=1, description='y', continuous_update=False)\n",
    "# hbox = HBox([xwid, ywid])\n",
    "\n",
    "def f(a,b,c,d):\n",
    "    print(a+b+str(c)+str(d))\n",
    "\n",
    "w=interactive(f, a=['a', 'b'], b=['1', '2'], c=(0.,10.,0.1), d=False)\n",
    "VBox([HBox(w.children[0:2]), HBox(w.children[2:4]), w.children[-1]])\n",
    "\n"
   ]
  }
 ],
 "metadata": {
  "kernelspec": {
   "display_name": "Python 3",
   "language": "python",
   "name": "python3"
  },
  "language_info": {
   "codemirror_mode": {
    "name": "ipython",
    "version": 3
   },
   "file_extension": ".py",
   "mimetype": "text/x-python",
   "name": "python",
   "nbconvert_exporter": "python",
   "pygments_lexer": "ipython3",
   "version": "3.7.3"
  }
 },
 "nbformat": 4,
 "nbformat_minor": 2
}

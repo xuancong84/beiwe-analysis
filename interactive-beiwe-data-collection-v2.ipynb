{
 "cells": [
  {
   "cell_type": "code",
   "execution_count": 1,
   "metadata": {},
   "outputs": [],
   "source": [
    "%load_ext autoreload\n",
    "%autoreload 2\n",
    "import warnings; warnings.simplefilter('ignore')\n",
    "\n",
    "import ipywidgets as widgets\n",
    "from ipywidgets import interact, interact_manual, interactive\n",
    "import seaborn as sns\n",
    "import matplotlib.pyplot as plt\n",
    "import os\n",
    "import pandas as pd\n",
    "from utils1 import *\n",
    "data_path = os.getenv('HOME')+'/projects/beiwe-data/GxXEPM08ZK0GS1gIaLe9YhEn/1s3g19f7'"
   ]
  },
  {
   "cell_type": "markdown",
   "metadata": {},
   "source": [
    "# Data Tables"
   ]
  },
  {
   "cell_type": "code",
   "execution_count": 2,
   "metadata": {},
   "outputs": [
    {
     "data": {
      "text/plain": [
       "['accel',\n",
       " 'callLog',\n",
       " 'tapsLog',\n",
       " 'usage',\n",
       " 'accessibilityLog',\n",
       " 'gps',\n",
       " 'light',\n",
       " 'powerState',\n",
       " 'textsLog']"
      ]
     },
     "execution_count": 2,
     "metadata": {},
     "output_type": "execute_result"
    }
   ],
   "source": [
    "feature_list = ['accel', 'callLog', 'tapsLog', 'usage', 'accessibilityLog', 'gps', 'light', 'powerState', 'textsLog']\n",
    "user_map = {'Nikolas old ZTE':'16kbga47', 'Nikolas':'1s3g19f7', 'IMH1-Judy':'33kr56tx',\n",
    "            'IMH2-Amirah':'1tfan3jn', 'Nikolas old Nokia':'8e3ukdwy', 'Praveen':'d35pt9m4',\n",
    "            'Faye':'drdlfo5c', 'Robert':'gqmrnhvv', 'Xuancong':'hcy9th57'}\n",
    "\n",
    "\n",
    "data_categories = feature_list\n",
    "data_categories"
   ]
  },
  {
   "cell_type": "code",
   "execution_count": 3,
   "metadata": {},
   "outputs": [
    {
     "data": {
      "text/plain": [
       "'/Users/xuancong/projects/beiwe-data/GxXEPM08ZK0GS1gIaLe9YhEn/1s3g19f7'"
      ]
     },
     "execution_count": 3,
     "metadata": {},
     "output_type": "execute_result"
    }
   ],
   "source": [
    "data_path"
   ]
  },
  {
   "cell_type": "code",
   "execution_count": 4,
   "metadata": {
    "scrolled": false
   },
   "outputs": [
    {
     "data": {
      "application/vnd.jupyter.widget-view+json": {
       "model_id": "ea2ba20a2fd84d5e9378199942725d4e",
       "version_major": 2,
       "version_minor": 0
      },
      "text/plain": [
       "interactive(children=(Dropdown(description='cat', index=2, options=('accel', 'callLog', 'tapsLog', 'usage', 'a…"
      ]
     },
     "metadata": {},
     "output_type": "display_data"
    }
   ],
   "source": [
    "@interact(cat=data_categories)\n",
    "def show_data(cat='tapsLog'):\n",
    "    global select_df\n",
    "    df = create_df(data_path, cat)\n",
    "    select_df = df.head()"
   ]
  },
  {
   "cell_type": "code",
   "execution_count": 5,
   "metadata": {
    "scrolled": true
   },
   "outputs": [
    {
     "ename": "AttributeError",
     "evalue": "'DataFrame' object has no attribute 'widget'",
     "output_type": "error",
     "traceback": [
      "\u001b[0;31m---------------------------------------------------------------------------\u001b[0m",
      "\u001b[0;31mAttributeError\u001b[0m                            Traceback (most recent call last)",
      "\u001b[0;32m<ipython-input-5-c315b84c069f>\u001b[0m in \u001b[0;36m<module>\u001b[0;34m\u001b[0m\n\u001b[0;32m----> 1\u001b[0;31m \u001b[0mdata\u001b[0m \u001b[0;34m=\u001b[0m \u001b[0mselect_df\u001b[0m\u001b[0;34m.\u001b[0m\u001b[0mwidget\u001b[0m\u001b[0;34m.\u001b[0m\u001b[0mresult\u001b[0m\u001b[0;34m\u001b[0m\u001b[0;34m\u001b[0m\u001b[0m\n\u001b[0m\u001b[1;32m      2\u001b[0m \u001b[0mprint\u001b[0m\u001b[0;34m(\u001b[0m\u001b[0;34m'Start date: '\u001b[0m\u001b[0;34m,\u001b[0m \u001b[0mmin\u001b[0m\u001b[0;34m(\u001b[0m\u001b[0mdata\u001b[0m\u001b[0;34m[\u001b[0m\u001b[0;34m'datetime'\u001b[0m\u001b[0;34m]\u001b[0m\u001b[0;34m)\u001b[0m\u001b[0;34m)\u001b[0m\u001b[0;34m\u001b[0m\u001b[0;34m\u001b[0m\u001b[0m\n\u001b[1;32m      3\u001b[0m \u001b[0mprint\u001b[0m\u001b[0;34m(\u001b[0m\u001b[0;34m'End date: '\u001b[0m\u001b[0;34m,\u001b[0m \u001b[0mmax\u001b[0m\u001b[0;34m(\u001b[0m\u001b[0mdata\u001b[0m\u001b[0;34m[\u001b[0m\u001b[0;34m'datetime'\u001b[0m\u001b[0;34m]\u001b[0m\u001b[0;34m)\u001b[0m\u001b[0;34m)\u001b[0m\u001b[0;34m\u001b[0m\u001b[0;34m\u001b[0m\u001b[0m\n",
      "\u001b[0;32m~/anaconda3/lib/python3.7/site-packages/pandas/core/generic.py\u001b[0m in \u001b[0;36m__getattr__\u001b[0;34m(self, name)\u001b[0m\n\u001b[1;32m   5065\u001b[0m             \u001b[0;32mif\u001b[0m \u001b[0mself\u001b[0m\u001b[0;34m.\u001b[0m\u001b[0m_info_axis\u001b[0m\u001b[0;34m.\u001b[0m\u001b[0m_can_hold_identifiers_and_holds_name\u001b[0m\u001b[0;34m(\u001b[0m\u001b[0mname\u001b[0m\u001b[0;34m)\u001b[0m\u001b[0;34m:\u001b[0m\u001b[0;34m\u001b[0m\u001b[0;34m\u001b[0m\u001b[0m\n\u001b[1;32m   5066\u001b[0m                 \u001b[0;32mreturn\u001b[0m \u001b[0mself\u001b[0m\u001b[0;34m[\u001b[0m\u001b[0mname\u001b[0m\u001b[0;34m]\u001b[0m\u001b[0;34m\u001b[0m\u001b[0;34m\u001b[0m\u001b[0m\n\u001b[0;32m-> 5067\u001b[0;31m             \u001b[0;32mreturn\u001b[0m \u001b[0mobject\u001b[0m\u001b[0;34m.\u001b[0m\u001b[0m__getattribute__\u001b[0m\u001b[0;34m(\u001b[0m\u001b[0mself\u001b[0m\u001b[0;34m,\u001b[0m \u001b[0mname\u001b[0m\u001b[0;34m)\u001b[0m\u001b[0;34m\u001b[0m\u001b[0;34m\u001b[0m\u001b[0m\n\u001b[0m\u001b[1;32m   5068\u001b[0m \u001b[0;34m\u001b[0m\u001b[0m\n\u001b[1;32m   5069\u001b[0m     \u001b[0;32mdef\u001b[0m \u001b[0m__setattr__\u001b[0m\u001b[0;34m(\u001b[0m\u001b[0mself\u001b[0m\u001b[0;34m,\u001b[0m \u001b[0mname\u001b[0m\u001b[0;34m,\u001b[0m \u001b[0mvalue\u001b[0m\u001b[0;34m)\u001b[0m\u001b[0;34m:\u001b[0m\u001b[0;34m\u001b[0m\u001b[0;34m\u001b[0m\u001b[0m\n",
      "\u001b[0;31mAttributeError\u001b[0m: 'DataFrame' object has no attribute 'widget'"
     ]
    }
   ],
   "source": [
    "data = select_df.widget.result\n",
    "print('Start date: ', min(data['datetime']))\n",
    "print('End date: ', max(data['datetime']))"
   ]
  },
  {
   "cell_type": "markdown",
   "metadata": {},
   "source": [
    "# Data Visualization"
   ]
  },
  {
   "cell_type": "markdown",
   "metadata": {},
   "source": [
    "# Call Log"
   ]
  },
  {
   "cell_type": "code",
   "execution_count": null,
   "metadata": {
    "scrolled": true
   },
   "outputs": [],
   "source": [
    "data = create_df(data_path, 'callLog')\n",
    "def select_dates(start_date, end_date):\n",
    "    start_date = localize_date(start_date)\n",
    "    end_date = localize_date(end_date)\n",
    "    mask = (data['datetime'] > start_date) & (data['datetime'] <= end_date)\n",
    "    selection = data.loc[mask]\n",
    "    selection.sort_values(by='datetime', inplace=True)\n",
    "    selection.reset_index(inplace=True, drop=True)\n",
    "    table = selection[['hashed phone number', 'call type', 'duration in seconds',\n",
    "       'datetime', 'weekday_name', 'hour']]\n",
    "    return table\n",
    "\n",
    "date_picker = interact(select_dates,\n",
    "                        start_date=widgets.DatePicker(value=pd.to_datetime('2019-08-05')),\n",
    "                        end_date=widgets.DatePicker(value=pd.to_datetime('2019-09-09')), \n",
    "                        )\n",
    "callLog_selection = date_picker.widget.result"
   ]
  },
  {
   "cell_type": "markdown",
   "metadata": {},
   "source": [
    "### Phone call contacts\n",
    "How many calls received form each hashed phone number"
   ]
  },
  {
   "cell_type": "code",
   "execution_count": null,
   "metadata": {},
   "outputs": [],
   "source": [
    "callLog_selection['hashed phone number'].value_counts().reset_index(name='calls')"
   ]
  },
  {
   "cell_type": "markdown",
   "metadata": {},
   "source": [
    "### Phone call types\n",
    "Types of calls received form each hashed phone number.  \n",
    "Note that the number appears more than once to match withe the respective call type"
   ]
  },
  {
   "cell_type": "code",
   "execution_count": null,
   "metadata": {},
   "outputs": [],
   "source": [
    "callLog_selection.groupby(['hashed phone number', 'call type']).size().reset_index(name='count')"
   ]
  },
  {
   "cell_type": "markdown",
   "metadata": {},
   "source": [
    "### Apps Usage"
   ]
  },
  {
   "cell_type": "code",
   "execution_count": null,
   "metadata": {
    "scrolled": false
   },
   "outputs": [],
   "source": [
    "data = create_df(data_path, 'tapsLog')\n",
    "def select_dates(start_date, end_date):\n",
    "    start_date = localize_date(start_date)\n",
    "    end_date = localize_date(end_date)\n",
    "    mask = (data['datetime'] > start_date) & (data['datetime'] <= end_date)\n",
    "    \n",
    "    selection = data.loc[mask]\n",
    "    return selection, plot_apps_usage(selection, start_date, end_date)\n",
    "\n",
    "date_picker = interact(select_dates,\n",
    "                        start_date=widgets.DatePicker(value=pd.to_datetime('2019-08-05')),\n",
    "                        end_date=widgets.DatePicker(value=pd.to_datetime('2019-09-09')), \n",
    "                        )"
   ]
  },
  {
   "cell_type": "markdown",
   "metadata": {},
   "source": [
    "### Phone Usage based on taps data"
   ]
  },
  {
   "cell_type": "code",
   "execution_count": null,
   "metadata": {},
   "outputs": [],
   "source": [
    "taps_selection = date_picker.widget.result[0]\n",
    "plot_measurement_heatmap(taps_selection, 'tapsLog', norm=False)"
   ]
  },
  {
   "cell_type": "code",
   "execution_count": null,
   "metadata": {},
   "outputs": [],
   "source": [
    "taps_selection\n",
    "print('Start date: ', min(taps_selection['datetime']))\n",
    "print('End date: ', max(taps_selection['datetime']))"
   ]
  },
  {
   "cell_type": "markdown",
   "metadata": {},
   "source": [
    "### GPS trajectory"
   ]
  },
  {
   "cell_type": "code",
   "execution_count": null,
   "metadata": {
    "scrolled": false
   },
   "outputs": [],
   "source": [
    "gps_data = create_df(data_path, 'gps')\n",
    "\n",
    "def select_dates(start_date, end_date):\n",
    "    start_date = localize_date(start_date)\n",
    "    end_date = localize_date(end_date)\n",
    "    mask = (gps_data['datetime'] > start_date) & (gps_data['datetime'] <= end_date)\n",
    "    selection = gps_data.loc[mask]\n",
    "    selection.sort_values(by='datetime', inplace=True)\n",
    "    selection.reset_index(inplace=True, drop=True)\n",
    "\n",
    "    x,y = selection['longitude'], selection['latitude']\n",
    "    \n",
    "    \n",
    "    return selection[['latitude', 'longitude', 'datetime']], gps_heatmap(x, y), \n",
    "\n",
    "date_picker = interact(select_dates,\n",
    "                        start_date=widgets.DatePicker(value=pd.to_datetime('2019-08-20')),\n",
    "                        end_date=widgets.DatePicker(value=pd.to_datetime('2019-09-09')), \n",
    "                        )\n"
   ]
  },
  {
   "cell_type": "markdown",
   "metadata": {},
   "source": [
    "Faye's GPS data had some noise in the West of SG. Dates: 19 Aug to 20 Aug, check data around 12pm"
   ]
  },
  {
   "cell_type": "markdown",
   "metadata": {},
   "source": [
    "# TODO\n",
    "### GPS \n",
    "* Identify frequent vs non-frequent trips\n",
    "* Transform coordinates with tester's consent\n",
    "\n",
    "### Taps-Accesibility\n",
    "* Find times the user presses delete / taps in a specific app"
   ]
  },
  {
   "cell_type": "markdown",
   "metadata": {},
   "source": [
    "# Further data introspections"
   ]
  }
 ],
 "metadata": {
  "kernelspec": {
   "display_name": "Python 3",
   "language": "python",
   "name": "python3"
  },
  "language_info": {
   "codemirror_mode": {
    "name": "ipython",
    "version": 3
   },
   "file_extension": ".py",
   "mimetype": "text/x-python",
   "name": "python",
   "nbconvert_exporter": "python",
   "pygments_lexer": "ipython3",
   "version": "3.7.3"
  }
 },
 "nbformat": 4,
 "nbformat_minor": 2
}
